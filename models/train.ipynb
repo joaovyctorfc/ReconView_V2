{
 "cells": [
  {
   "cell_type": "code",
   "execution_count": 9,
   "id": "c030bfeb-dc51-4adb-a807-3ad309871793",
   "metadata": {},
   "outputs": [],
   "source": [
    "from ultralytics import YOLO\n"
   ]
  },
  {
   "cell_type": "code",
   "execution_count": 10,
   "id": "aa5a9e72-37da-4770-afe3-02bc0050747e",
   "metadata": {},
   "outputs": [
    {
     "data": {
      "text/plain": [
       "{'settings_version': '0.0.6',\n",
       " 'datasets_dir': 'C:\\\\Pessoal\\\\Projetos\\\\Github\\\\datasets',\n",
       " 'weights_dir': 'C:\\\\Pessoal\\\\Projetos\\\\Github\\\\ReconView_V2\\\\weights',\n",
       " 'runs_dir': './runs',\n",
       " 'uuid': '7e29d0bd07054ae4fe721e08227d97c5eb6ffd7a78b2b5891160bdcba2b3d57d',\n",
       " 'sync': True,\n",
       " 'api_key': '',\n",
       " 'openai_api_key': '',\n",
       " 'clearml': True,\n",
       " 'comet': True,\n",
       " 'dvc': True,\n",
       " 'hub': True,\n",
       " 'mlflow': True,\n",
       " 'neptune': True,\n",
       " 'raytune': True,\n",
       " 'tensorboard': True,\n",
       " 'wandb': False,\n",
       " 'vscode_msg': True}"
      ]
     },
     "execution_count": 10,
     "metadata": {},
     "output_type": "execute_result"
    }
   ],
   "source": [
    "from ultralytics import YOLO, settings\n",
    "settings"
   ]
  },
  {
   "cell_type": "code",
   "execution_count": 11,
   "id": "8de3bf0e-f1ff-46d6-bf8b-8773588cf2cf",
   "metadata": {},
   "outputs": [
    {
     "data": {
      "text/plain": [
       "{'settings_version': '0.0.6',\n",
       " 'datasets_dir': 'C:\\\\Pessoal\\\\Projetos\\\\Github\\\\datasets',\n",
       " 'weights_dir': 'C:\\\\Pessoal\\\\Projetos\\\\Github\\\\ReconView_V2\\\\weights',\n",
       " 'runs_dir': './runs',\n",
       " 'uuid': '7e29d0bd07054ae4fe721e08227d97c5eb6ffd7a78b2b5891160bdcba2b3d57d',\n",
       " 'sync': True,\n",
       " 'api_key': '',\n",
       " 'openai_api_key': '',\n",
       " 'clearml': True,\n",
       " 'comet': True,\n",
       " 'dvc': True,\n",
       " 'hub': True,\n",
       " 'mlflow': True,\n",
       " 'neptune': True,\n",
       " 'raytune': True,\n",
       " 'tensorboard': True,\n",
       " 'wandb': False,\n",
       " 'vscode_msg': True}"
      ]
     },
     "execution_count": 11,
     "metadata": {},
     "output_type": "execute_result"
    }
   ],
   "source": [
    "settings.update({'runs_dir': './runs'})\n",
    "settings"
   ]
  },
  {
   "cell_type": "code",
   "execution_count": 12,
   "id": "69bd8d87",
   "metadata": {},
   "outputs": [
    {
     "name": "stdout",
     "output_type": "stream",
     "text": [
      "True\n",
      "1\n"
     ]
    }
   ],
   "source": [
    "import torch\n",
    "print(torch.cuda.is_available())  # Isso deve retornar True se a GPU estiver disponível\n",
    "print(torch.cuda.device_count())  # Isso deve retornar 1 ou mais se houver GPUs disponíveis\n"
   ]
  },
  {
   "cell_type": "code",
   "execution_count": 8,
   "id": "7e5022f1",
   "metadata": {},
   "outputs": [
    {
     "name": "stdout",
     "output_type": "stream",
     "text": [
      "Collecting kagglehub\n",
      "  Downloading kagglehub-0.3.4-py3-none-any.whl.metadata (22 kB)\n",
      "Requirement already satisfied: packaging in c:\\pessoal\\projetos\\github\\reconview_v2\\venv\\lib\\site-packages (from kagglehub) (24.1)\n",
      "Requirement already satisfied: requests in c:\\pessoal\\projetos\\github\\reconview_v2\\venv\\lib\\site-packages (from kagglehub) (2.32.3)\n",
      "Requirement already satisfied: tqdm in c:\\pessoal\\projetos\\github\\reconview_v2\\venv\\lib\\site-packages (from kagglehub) (4.66.5)\n",
      "Requirement already satisfied: charset-normalizer<4,>=2 in c:\\pessoal\\projetos\\github\\reconview_v2\\venv\\lib\\site-packages (from requests->kagglehub) (3.4.0)\n",
      "Requirement already satisfied: idna<4,>=2.5 in c:\\pessoal\\projetos\\github\\reconview_v2\\venv\\lib\\site-packages (from requests->kagglehub) (3.10)\n",
      "Requirement already satisfied: urllib3<3,>=1.21.1 in c:\\pessoal\\projetos\\github\\reconview_v2\\venv\\lib\\site-packages (from requests->kagglehub) (2.2.3)\n",
      "Requirement already satisfied: certifi>=2017.4.17 in c:\\pessoal\\projetos\\github\\reconview_v2\\venv\\lib\\site-packages (from requests->kagglehub) (2024.8.30)\n",
      "Requirement already satisfied: colorama in c:\\pessoal\\projetos\\github\\reconview_v2\\venv\\lib\\site-packages (from tqdm->kagglehub) (0.4.6)\n",
      "Downloading kagglehub-0.3.4-py3-none-any.whl (43 kB)\n",
      "Installing collected packages: kagglehub\n",
      "Successfully installed kagglehub-0.3.4\n"
     ]
    },
    {
     "name": "stderr",
     "output_type": "stream",
     "text": [
      "c:\\Pessoal\\Projetos\\Github\\ReconView_V2\\venv\\lib\\site-packages\\tqdm\\auto.py:21: TqdmWarning: IProgress not found. Please update jupyter and ipywidgets. See https://ipywidgets.readthedocs.io/en/stable/user_install.html\n",
      "  from .autonotebook import tqdm as notebook_tqdm\n"
     ]
    },
    {
     "name": "stdout",
     "output_type": "stream",
     "text": [
      "Downloading from https://www.kaggle.com/api/v1/datasets/download/metinmekiabullrahman/fire-detection?dataset_version_number=1...\n"
     ]
    },
    {
     "name": "stderr",
     "output_type": "stream",
     "text": [
      "100%|██████████| 24.4M/24.4M [00:27<00:00, 945kB/s] "
     ]
    },
    {
     "name": "stdout",
     "output_type": "stream",
     "text": [
      "Extracting files...\n"
     ]
    },
    {
     "name": "stderr",
     "output_type": "stream",
     "text": [
      "\n"
     ]
    },
    {
     "name": "stdout",
     "output_type": "stream",
     "text": [
      "Path to dataset files: C:\\Users\\Cliente\\.cache\\kagglehub\\datasets\\metinmekiabullrahman\\fire-detection\\versions\\1\n"
     ]
    }
   ],
   "source": [
    "!pip install kagglehub \n",
    "import kagglehub\n",
    "\n",
    "# Download latest version\n",
    "path = kagglehub.dataset_download(\"metinmekiabullrahman/fire-detection\")\n",
    "\n",
    "print(\"Path to dataset files:\", path)"
   ]
  },
  {
   "cell_type": "code",
   "execution_count": 13,
   "id": "e5e40d1c-0b84-4c6c-ad48-f5512d1c3717",
   "metadata": {},
   "outputs": [],
   "source": [
    "model = YOLO('yolov8m.pt')"
   ]
  },
  {
   "cell_type": "code",
   "execution_count": 15,
   "id": "496936e4-708d-494e-b465-a2f74513bea3",
   "metadata": {},
   "outputs": [
    {
     "name": "stdout",
     "output_type": "stream",
     "text": [
      "New https://pypi.org/project/ultralytics/8.3.34 available  Update with 'pip install -U ultralytics'\n",
      "Ultralytics 8.3.23  Python-3.10.11 torch-2.5.1+cu118 CUDA:0 (NVIDIA GeForce RTX 4060, 8188MiB)\n",
      "\u001b[34m\u001b[1mengine\\trainer: \u001b[0mtask=detect, mode=train, model=yolov8m.pt, data=C:\\Pessoal\\Projetos\\Github\\ReconView_V2\\Fire-Detection\\data.yaml, epochs=30, time=None, patience=8, batch=-1, imgsz=640, save=True, save_period=-1, cache=False, device=0, workers=8, project=None, name=train2, exist_ok=False, pretrained=True, optimizer=auto, verbose=True, seed=0, deterministic=True, single_cls=False, rect=False, cos_lr=False, close_mosaic=10, resume=False, amp=True, fraction=1.0, profile=False, freeze=None, multi_scale=False, overlap_mask=True, mask_ratio=4, dropout=0.0, val=True, split=val, save_json=False, save_hybrid=False, conf=None, iou=0.7, max_det=300, half=False, dnn=False, plots=True, source=None, vid_stride=1, stream_buffer=False, visualize=False, augment=False, agnostic_nms=False, classes=None, retina_masks=False, embed=None, show=False, save_frames=False, save_txt=False, save_conf=False, save_crop=False, show_labels=True, show_conf=True, show_boxes=True, line_width=None, format=torchscript, keras=False, optimize=False, int8=False, dynamic=False, simplify=True, opset=None, workspace=4, nms=False, lr0=0.01, lrf=0.01, momentum=0.937, weight_decay=0.0005, warmup_epochs=3.0, warmup_momentum=0.8, warmup_bias_lr=0.1, box=7.5, cls=0.5, dfl=1.5, pose=12.0, kobj=1.0, label_smoothing=0.0, nbs=64, hsv_h=0.015, hsv_s=0.7, hsv_v=0.4, degrees=0.0, translate=0.1, scale=0.5, shear=0.0, perspective=0.0, flipud=0.0, fliplr=0.5, bgr=0.0, mosaic=1.0, mixup=0.0, copy_paste=0.0, copy_paste_mode=flip, auto_augment=randaugment, erasing=0.4, crop_fraction=1.0, cfg=None, tracker=botsort.yaml, save_dir=runs\\detect\\train2\n",
      "Overriding model.yaml nc=80 with nc=1\n",
      "\n",
      "                   from  n    params  module                                       arguments                     \n",
      "  0                  -1  1      1392  ultralytics.nn.modules.conv.Conv             [3, 48, 3, 2]                 \n",
      "  1                  -1  1     41664  ultralytics.nn.modules.conv.Conv             [48, 96, 3, 2]                \n",
      "  2                  -1  2    111360  ultralytics.nn.modules.block.C2f             [96, 96, 2, True]             \n",
      "  3                  -1  1    166272  ultralytics.nn.modules.conv.Conv             [96, 192, 3, 2]               \n",
      "  4                  -1  4    813312  ultralytics.nn.modules.block.C2f             [192, 192, 4, True]           \n",
      "  5                  -1  1    664320  ultralytics.nn.modules.conv.Conv             [192, 384, 3, 2]              \n",
      "  6                  -1  4   3248640  ultralytics.nn.modules.block.C2f             [384, 384, 4, True]           \n",
      "  7                  -1  1   1991808  ultralytics.nn.modules.conv.Conv             [384, 576, 3, 2]              \n",
      "  8                  -1  2   3985920  ultralytics.nn.modules.block.C2f             [576, 576, 2, True]           \n",
      "  9                  -1  1    831168  ultralytics.nn.modules.block.SPPF            [576, 576, 5]                 \n",
      " 10                  -1  1         0  torch.nn.modules.upsampling.Upsample         [None, 2, 'nearest']          \n",
      " 11             [-1, 6]  1         0  ultralytics.nn.modules.conv.Concat           [1]                           \n",
      " 12                  -1  2   1993728  ultralytics.nn.modules.block.C2f             [960, 384, 2]                 \n",
      " 13                  -1  1         0  torch.nn.modules.upsampling.Upsample         [None, 2, 'nearest']          \n",
      " 14             [-1, 4]  1         0  ultralytics.nn.modules.conv.Concat           [1]                           \n",
      " 15                  -1  2    517632  ultralytics.nn.modules.block.C2f             [576, 192, 2]                 \n",
      " 16                  -1  1    332160  ultralytics.nn.modules.conv.Conv             [192, 192, 3, 2]              \n",
      " 17            [-1, 12]  1         0  ultralytics.nn.modules.conv.Concat           [1]                           \n",
      " 18                  -1  2   1846272  ultralytics.nn.modules.block.C2f             [576, 384, 2]                 \n",
      " 19                  -1  1   1327872  ultralytics.nn.modules.conv.Conv             [384, 384, 3, 2]              \n",
      " 20             [-1, 9]  1         0  ultralytics.nn.modules.conv.Concat           [1]                           \n",
      " 21                  -1  2   4207104  ultralytics.nn.modules.block.C2f             [960, 576, 2]                 \n",
      " 22        [15, 18, 21]  1   3776275  ultralytics.nn.modules.head.Detect           [1, [192, 384, 576]]          \n",
      "Model summary: 295 layers, 25,856,899 parameters, 25,856,883 gradients, 79.1 GFLOPs\n",
      "\n",
      "Transferred 469/475 items from pretrained weights\n",
      "Freezing layer 'model.22.dfl.conv.weight'\n",
      "\u001b[34m\u001b[1mAMP: \u001b[0mrunning Automatic Mixed Precision (AMP) checks...\n",
      "\u001b[34m\u001b[1mAMP: \u001b[0mchecks passed \n",
      "\u001b[34m\u001b[1mAutoBatch: \u001b[0mComputing optimal batch size for imgsz=640 at 60.0% CUDA memory utilization.\n",
      "\u001b[34m\u001b[1mAutoBatch: \u001b[0mCUDA:0 (NVIDIA GeForce RTX 4060) 8.00G total, 0.24G reserved, 0.24G allocated, 7.52G free\n",
      "      Params      GFLOPs  GPU_mem (GB)  forward (ms) backward (ms)                   input                  output\n",
      "    25856899       79.07         0.661         76.26         252.1        (1, 3, 640, 640)                    list\n",
      "    25856899       158.1         1.007         48.01         108.3        (2, 3, 640, 640)                    list\n",
      "    25856899       316.3         1.801         65.83         81.71        (4, 3, 640, 640)                    list\n",
      "    25856899       632.5         3.242         89.71         107.9        (8, 3, 640, 640)                    list\n",
      "    25856899        1265         6.371         167.8         172.4       (16, 3, 640, 640)                    list\n",
      "\u001b[34m\u001b[1mAutoBatch: \u001b[0mUsing batch-size 11 for CUDA:0 4.92G/8.00G (62%) \n"
     ]
    },
    {
     "name": "stderr",
     "output_type": "stream",
     "text": [
      "\u001b[34m\u001b[1mtrain: \u001b[0mScanning C:\\Pessoal\\Projetos\\Github\\ReconView_V2\\Fire-Detection\\train\\labels... 1004 images, 2 backgrounds, 0 corrupt: 100%|██████████| 1004/1004 [00:02<00:00, 377.46it/s]\n"
     ]
    },
    {
     "name": "stdout",
     "output_type": "stream",
     "text": [
      "\u001b[34m\u001b[1mtrain: \u001b[0mNew cache created: C:\\Pessoal\\Projetos\\Github\\ReconView_V2\\Fire-Detection\\train\\labels.cache\n"
     ]
    },
    {
     "name": "stderr",
     "output_type": "stream",
     "text": [
      "\u001b[34m\u001b[1mval: \u001b[0mScanning C:\\Pessoal\\Projetos\\Github\\ReconView_V2\\Fire-Detection\\valid\\labels... 754 images, 2 backgrounds, 0 corrupt: 100%|██████████| 754/754 [00:02<00:00, 347.23it/s]\n"
     ]
    },
    {
     "name": "stdout",
     "output_type": "stream",
     "text": [
      "\u001b[34m\u001b[1mval: \u001b[0mNew cache created: C:\\Pessoal\\Projetos\\Github\\ReconView_V2\\Fire-Detection\\valid\\labels.cache\n",
      "Plotting labels to runs\\detect\\train2\\labels.jpg... \n",
      "\u001b[34m\u001b[1moptimizer:\u001b[0m 'optimizer=auto' found, ignoring 'lr0=0.01' and 'momentum=0.937' and determining best 'optimizer', 'lr0' and 'momentum' automatically... \n",
      "\u001b[34m\u001b[1moptimizer:\u001b[0m AdamW(lr=0.002, momentum=0.9) with parameter groups 77 weight(decay=0.0), 84 weight(decay=0.000515625), 83 bias(decay=0.0)\n",
      "Image sizes 640 train, 640 val\n",
      "Using 8 dataloader workers\n",
      "Logging results to \u001b[1mruns\\detect\\train2\u001b[0m\n",
      "Starting training for 30 epochs...\n",
      "\n",
      "      Epoch    GPU_mem   box_loss   cls_loss   dfl_loss  Instances       Size\n"
     ]
    },
    {
     "name": "stderr",
     "output_type": "stream",
     "text": [
      "       1/30      4.63G      1.593       2.09      1.656          6        640: 100%|██████████| 92/92 [00:35<00:00,  2.60it/s]\n",
      "                 Class     Images  Instances      Box(P          R      mAP50  mAP50-95): 100%|██████████| 35/35 [00:11<00:00,  2.96it/s]"
     ]
    },
    {
     "name": "stdout",
     "output_type": "stream",
     "text": [
      "                   all        754        950     0.0127      0.588     0.0106    0.00375\n"
     ]
    },
    {
     "name": "stderr",
     "output_type": "stream",
     "text": [
      "\n"
     ]
    },
    {
     "name": "stdout",
     "output_type": "stream",
     "text": [
      "\n",
      "      Epoch    GPU_mem   box_loss   cls_loss   dfl_loss  Instances       Size\n"
     ]
    },
    {
     "name": "stderr",
     "output_type": "stream",
     "text": [
      "       2/30      4.93G      1.742      1.918      1.775          6        640: 100%|██████████| 92/92 [00:33<00:00,  2.77it/s]\n",
      "                 Class     Images  Instances      Box(P          R      mAP50  mAP50-95): 100%|██████████| 35/35 [00:11<00:00,  3.07it/s]\n"
     ]
    },
    {
     "name": "stdout",
     "output_type": "stream",
     "text": [
      "                   all        754        950     0.0154     0.0905    0.00777    0.00231\n",
      "\n",
      "      Epoch    GPU_mem   box_loss   cls_loss   dfl_loss  Instances       Size\n"
     ]
    },
    {
     "name": "stderr",
     "output_type": "stream",
     "text": [
      "       3/30      4.93G      1.729      1.903      1.759          4        640: 100%|██████████| 92/92 [00:31<00:00,  2.93it/s]\n",
      "                 Class     Images  Instances      Box(P          R      mAP50  mAP50-95): 100%|██████████| 35/35 [00:12<00:00,  2.79it/s]\n"
     ]
    },
    {
     "name": "stdout",
     "output_type": "stream",
     "text": [
      "                   all        754        950      0.236      0.473      0.214      0.107\n",
      "\n",
      "      Epoch    GPU_mem   box_loss   cls_loss   dfl_loss  Instances       Size\n"
     ]
    },
    {
     "name": "stderr",
     "output_type": "stream",
     "text": [
      "       4/30      4.83G      1.711      1.812      1.747          3        640: 100%|██████████| 92/92 [00:30<00:00,  3.00it/s]\n",
      "                 Class     Images  Instances      Box(P          R      mAP50  mAP50-95): 100%|██████████| 35/35 [00:10<00:00,  3.46it/s]\n"
     ]
    },
    {
     "name": "stdout",
     "output_type": "stream",
     "text": [
      "                   all        754        950      0.549       0.49      0.472      0.227\n",
      "\n",
      "      Epoch    GPU_mem   box_loss   cls_loss   dfl_loss  Instances       Size\n"
     ]
    },
    {
     "name": "stderr",
     "output_type": "stream",
     "text": [
      "       5/30      4.95G      1.636       1.68        1.7         14        640: 100%|██████████| 92/92 [00:29<00:00,  3.16it/s]\n",
      "                 Class     Images  Instances      Box(P          R      mAP50  mAP50-95): 100%|██████████| 35/35 [00:10<00:00,  3.45it/s]"
     ]
    },
    {
     "name": "stdout",
     "output_type": "stream",
     "text": [
      "                   all        754        950      0.633      0.558      0.598      0.316\n"
     ]
    },
    {
     "name": "stderr",
     "output_type": "stream",
     "text": [
      "\n"
     ]
    },
    {
     "name": "stdout",
     "output_type": "stream",
     "text": [
      "\n",
      "      Epoch    GPU_mem   box_loss   cls_loss   dfl_loss  Instances       Size\n"
     ]
    },
    {
     "name": "stderr",
     "output_type": "stream",
     "text": [
      "       6/30      4.91G      1.577      1.616      1.648          9        640: 100%|██████████| 92/92 [00:28<00:00,  3.18it/s]\n",
      "                 Class     Images  Instances      Box(P          R      mAP50  mAP50-95): 100%|██████████| 35/35 [00:10<00:00,  3.41it/s]"
     ]
    },
    {
     "name": "stdout",
     "output_type": "stream",
     "text": [
      "                   all        754        950      0.651      0.628      0.678      0.386\n"
     ]
    },
    {
     "name": "stderr",
     "output_type": "stream",
     "text": [
      "\n"
     ]
    },
    {
     "name": "stdout",
     "output_type": "stream",
     "text": [
      "\n",
      "      Epoch    GPU_mem   box_loss   cls_loss   dfl_loss  Instances       Size\n"
     ]
    },
    {
     "name": "stderr",
     "output_type": "stream",
     "text": [
      "       7/30      4.82G       1.46      1.461      1.549          9        640: 100%|██████████| 92/92 [00:31<00:00,  2.90it/s]\n",
      "                 Class     Images  Instances      Box(P          R      mAP50  mAP50-95): 100%|██████████| 35/35 [00:10<00:00,  3.33it/s]"
     ]
    },
    {
     "name": "stdout",
     "output_type": "stream",
     "text": [
      "                   all        754        950      0.525      0.604      0.531       0.29\n"
     ]
    },
    {
     "name": "stderr",
     "output_type": "stream",
     "text": [
      "\n"
     ]
    },
    {
     "name": "stdout",
     "output_type": "stream",
     "text": [
      "\n",
      "      Epoch    GPU_mem   box_loss   cls_loss   dfl_loss  Instances       Size\n"
     ]
    },
    {
     "name": "stderr",
     "output_type": "stream",
     "text": [
      "       8/30      4.91G      1.452      1.449      1.536          8        640: 100%|██████████| 92/92 [00:29<00:00,  3.16it/s]\n",
      "                 Class     Images  Instances      Box(P          R      mAP50  mAP50-95): 100%|██████████| 35/35 [00:10<00:00,  3.42it/s]"
     ]
    },
    {
     "name": "stdout",
     "output_type": "stream",
     "text": [
      "                   all        754        950      0.578       0.66      0.585      0.334\n"
     ]
    },
    {
     "name": "stderr",
     "output_type": "stream",
     "text": [
      "\n"
     ]
    },
    {
     "name": "stdout",
     "output_type": "stream",
     "text": [
      "\n",
      "      Epoch    GPU_mem   box_loss   cls_loss   dfl_loss  Instances       Size\n"
     ]
    },
    {
     "name": "stderr",
     "output_type": "stream",
     "text": [
      "       9/30      4.93G      1.434      1.429      1.546          8        640: 100%|██████████| 92/92 [00:29<00:00,  3.14it/s]\n",
      "                 Class     Images  Instances      Box(P          R      mAP50  mAP50-95): 100%|██████████| 35/35 [00:10<00:00,  3.23it/s]\n"
     ]
    },
    {
     "name": "stdout",
     "output_type": "stream",
     "text": [
      "                   all        754        950      0.637      0.687      0.652      0.395\n",
      "\n",
      "      Epoch    GPU_mem   box_loss   cls_loss   dfl_loss  Instances       Size\n"
     ]
    },
    {
     "name": "stderr",
     "output_type": "stream",
     "text": [
      "      10/30      4.83G      1.376      1.367      1.494          4        640: 100%|██████████| 92/92 [00:29<00:00,  3.10it/s]\n",
      "                 Class     Images  Instances      Box(P          R      mAP50  mAP50-95): 100%|██████████| 35/35 [00:10<00:00,  3.31it/s]"
     ]
    },
    {
     "name": "stdout",
     "output_type": "stream",
     "text": [
      "                   all        754        950      0.578      0.744      0.646      0.397\n"
     ]
    },
    {
     "name": "stderr",
     "output_type": "stream",
     "text": [
      "\n"
     ]
    },
    {
     "name": "stdout",
     "output_type": "stream",
     "text": [
      "\n",
      "      Epoch    GPU_mem   box_loss   cls_loss   dfl_loss  Instances       Size\n"
     ]
    },
    {
     "name": "stderr",
     "output_type": "stream",
     "text": [
      "      11/30      4.93G      1.379      1.353      1.499          5        640: 100%|██████████| 92/92 [00:29<00:00,  3.16it/s]\n",
      "                 Class     Images  Instances      Box(P          R      mAP50  mAP50-95): 100%|██████████| 35/35 [00:10<00:00,  3.41it/s]"
     ]
    },
    {
     "name": "stdout",
     "output_type": "stream",
     "text": [
      "                   all        754        950      0.708      0.669      0.742      0.447\n"
     ]
    },
    {
     "name": "stderr",
     "output_type": "stream",
     "text": [
      "\n"
     ]
    },
    {
     "name": "stdout",
     "output_type": "stream",
     "text": [
      "\n",
      "      Epoch    GPU_mem   box_loss   cls_loss   dfl_loss  Instances       Size\n"
     ]
    },
    {
     "name": "stderr",
     "output_type": "stream",
     "text": [
      "      12/30      4.92G       1.34      1.295      1.467          7        640: 100%|██████████| 92/92 [00:29<00:00,  3.16it/s]\n",
      "                 Class     Images  Instances      Box(P          R      mAP50  mAP50-95): 100%|██████████| 35/35 [00:10<00:00,  3.44it/s]"
     ]
    },
    {
     "name": "stdout",
     "output_type": "stream",
     "text": [
      "                   all        754        950      0.762      0.728      0.789      0.488\n"
     ]
    },
    {
     "name": "stderr",
     "output_type": "stream",
     "text": [
      "\n"
     ]
    },
    {
     "name": "stdout",
     "output_type": "stream",
     "text": [
      "\n",
      "      Epoch    GPU_mem   box_loss   cls_loss   dfl_loss  Instances       Size\n"
     ]
    },
    {
     "name": "stderr",
     "output_type": "stream",
     "text": [
      "      13/30      4.83G      1.318      1.252      1.448         11        640: 100%|██████████| 92/92 [00:28<00:00,  3.18it/s]\n",
      "                 Class     Images  Instances      Box(P          R      mAP50  mAP50-95): 100%|██████████| 35/35 [00:10<00:00,  3.44it/s]"
     ]
    },
    {
     "name": "stdout",
     "output_type": "stream",
     "text": [
      "                   all        754        950       0.81      0.755      0.841      0.546\n"
     ]
    },
    {
     "name": "stderr",
     "output_type": "stream",
     "text": [
      "\n"
     ]
    },
    {
     "name": "stdout",
     "output_type": "stream",
     "text": [
      "\n",
      "      Epoch    GPU_mem   box_loss   cls_loss   dfl_loss  Instances       Size\n"
     ]
    },
    {
     "name": "stderr",
     "output_type": "stream",
     "text": [
      "      14/30      4.92G      1.252      1.191      1.418          5        640: 100%|██████████| 92/92 [00:30<00:00,  3.04it/s]\n",
      "                 Class     Images  Instances      Box(P          R      mAP50  mAP50-95): 100%|██████████| 35/35 [00:10<00:00,  3.35it/s]"
     ]
    },
    {
     "name": "stdout",
     "output_type": "stream",
     "text": [
      "                   all        754        950      0.805      0.725      0.818      0.529\n"
     ]
    },
    {
     "name": "stderr",
     "output_type": "stream",
     "text": [
      "\n"
     ]
    },
    {
     "name": "stdout",
     "output_type": "stream",
     "text": [
      "\n",
      "      Epoch    GPU_mem   box_loss   cls_loss   dfl_loss  Instances       Size\n"
     ]
    },
    {
     "name": "stderr",
     "output_type": "stream",
     "text": [
      "      15/30      4.91G      1.287      1.205       1.44          4        640: 100%|██████████| 92/92 [00:28<00:00,  3.18it/s]\n",
      "                 Class     Images  Instances      Box(P          R      mAP50  mAP50-95): 100%|██████████| 35/35 [00:10<00:00,  3.43it/s]"
     ]
    },
    {
     "name": "stdout",
     "output_type": "stream",
     "text": [
      "                   all        754        950      0.678      0.762      0.731       0.46\n"
     ]
    },
    {
     "name": "stderr",
     "output_type": "stream",
     "text": [
      "\n"
     ]
    },
    {
     "name": "stdout",
     "output_type": "stream",
     "text": [
      "\n",
      "      Epoch    GPU_mem   box_loss   cls_loss   dfl_loss  Instances       Size\n"
     ]
    },
    {
     "name": "stderr",
     "output_type": "stream",
     "text": [
      "      16/30      4.82G      1.272       1.18      1.419          6        640: 100%|██████████| 92/92 [00:29<00:00,  3.16it/s]\n",
      "                 Class     Images  Instances      Box(P          R      mAP50  mAP50-95): 100%|██████████| 35/35 [00:10<00:00,  3.36it/s]"
     ]
    },
    {
     "name": "stdout",
     "output_type": "stream",
     "text": [
      "                   all        754        950      0.774      0.696      0.811      0.525\n"
     ]
    },
    {
     "name": "stderr",
     "output_type": "stream",
     "text": [
      "\n"
     ]
    },
    {
     "name": "stdout",
     "output_type": "stream",
     "text": [
      "\n",
      "      Epoch    GPU_mem   box_loss   cls_loss   dfl_loss  Instances       Size\n"
     ]
    },
    {
     "name": "stderr",
     "output_type": "stream",
     "text": [
      "      17/30      4.93G       1.26      1.134      1.416          5        640: 100%|██████████| 92/92 [00:29<00:00,  3.17it/s]\n",
      "                 Class     Images  Instances      Box(P          R      mAP50  mAP50-95): 100%|██████████| 35/35 [00:10<00:00,  3.45it/s]"
     ]
    },
    {
     "name": "stdout",
     "output_type": "stream",
     "text": [
      "                   all        754        950      0.847      0.744      0.857      0.555\n"
     ]
    },
    {
     "name": "stderr",
     "output_type": "stream",
     "text": [
      "\n"
     ]
    },
    {
     "name": "stdout",
     "output_type": "stream",
     "text": [
      "\n",
      "      Epoch    GPU_mem   box_loss   cls_loss   dfl_loss  Instances       Size\n"
     ]
    },
    {
     "name": "stderr",
     "output_type": "stream",
     "text": [
      "      18/30      4.94G       1.21      1.108      1.371          4        640: 100%|██████████| 92/92 [00:29<00:00,  3.13it/s]\n",
      "                 Class     Images  Instances      Box(P          R      mAP50  mAP50-95): 100%|██████████| 35/35 [00:10<00:00,  3.26it/s]"
     ]
    },
    {
     "name": "stdout",
     "output_type": "stream",
     "text": [
      "                   all        754        950      0.786       0.76      0.839       0.55\n"
     ]
    },
    {
     "name": "stderr",
     "output_type": "stream",
     "text": [
      "\n"
     ]
    },
    {
     "name": "stdout",
     "output_type": "stream",
     "text": [
      "\n",
      "      Epoch    GPU_mem   box_loss   cls_loss   dfl_loss  Instances       Size\n"
     ]
    },
    {
     "name": "stderr",
     "output_type": "stream",
     "text": [
      "      19/30      4.82G      1.172       1.06      1.354          5        640: 100%|██████████| 92/92 [00:29<00:00,  3.09it/s]\n",
      "                 Class     Images  Instances      Box(P          R      mAP50  mAP50-95): 100%|██████████| 35/35 [00:10<00:00,  3.26it/s]"
     ]
    },
    {
     "name": "stdout",
     "output_type": "stream",
     "text": [
      "                   all        754        950      0.813      0.747      0.826      0.559\n"
     ]
    },
    {
     "name": "stderr",
     "output_type": "stream",
     "text": [
      "\n"
     ]
    },
    {
     "name": "stdout",
     "output_type": "stream",
     "text": [
      "\n",
      "      Epoch    GPU_mem   box_loss   cls_loss   dfl_loss  Instances       Size\n"
     ]
    },
    {
     "name": "stderr",
     "output_type": "stream",
     "text": [
      "      20/30      4.92G      1.132      1.048      1.339          5        640: 100%|██████████| 92/92 [00:29<00:00,  3.13it/s]\n",
      "                 Class     Images  Instances      Box(P          R      mAP50  mAP50-95): 100%|██████████| 35/35 [00:10<00:00,  3.42it/s]"
     ]
    },
    {
     "name": "stdout",
     "output_type": "stream",
     "text": [
      "                   all        754        950      0.871      0.774       0.86      0.574\n"
     ]
    },
    {
     "name": "stderr",
     "output_type": "stream",
     "text": [
      "\n"
     ]
    },
    {
     "name": "stdout",
     "output_type": "stream",
     "text": [
      "Closing dataloader mosaic\n",
      "\n",
      "      Epoch    GPU_mem   box_loss   cls_loss   dfl_loss  Instances       Size\n"
     ]
    },
    {
     "name": "stderr",
     "output_type": "stream",
     "text": [
      "      21/30      4.91G       1.07     0.9491      1.297          8        640: 100%|██████████| 92/92 [00:29<00:00,  3.12it/s]\n",
      "                 Class     Images  Instances      Box(P          R      mAP50  mAP50-95): 100%|██████████| 35/35 [00:10<00:00,  3.41it/s]"
     ]
    },
    {
     "name": "stdout",
     "output_type": "stream",
     "text": [
      "                   all        754        950      0.787      0.758      0.846      0.568\n"
     ]
    },
    {
     "name": "stderr",
     "output_type": "stream",
     "text": [
      "\n"
     ]
    },
    {
     "name": "stdout",
     "output_type": "stream",
     "text": [
      "\n",
      "      Epoch    GPU_mem   box_loss   cls_loss   dfl_loss  Instances       Size\n"
     ]
    },
    {
     "name": "stderr",
     "output_type": "stream",
     "text": [
      "      22/30      4.82G      1.077     0.9017      1.291          3        640: 100%|██████████| 92/92 [00:29<00:00,  3.17it/s]\n",
      "                 Class     Images  Instances      Box(P          R      mAP50  mAP50-95): 100%|██████████| 35/35 [00:10<00:00,  3.47it/s]"
     ]
    },
    {
     "name": "stdout",
     "output_type": "stream",
     "text": [
      "                   all        754        950      0.864      0.798      0.884      0.594\n"
     ]
    },
    {
     "name": "stderr",
     "output_type": "stream",
     "text": [
      "\n"
     ]
    },
    {
     "name": "stdout",
     "output_type": "stream",
     "text": [
      "\n",
      "      Epoch    GPU_mem   box_loss   cls_loss   dfl_loss  Instances       Size\n"
     ]
    },
    {
     "name": "stderr",
     "output_type": "stream",
     "text": [
      "      23/30      4.91G      1.049     0.8629       1.27          7        640: 100%|██████████| 92/92 [00:28<00:00,  3.18it/s]\n",
      "                 Class     Images  Instances      Box(P          R      mAP50  mAP50-95): 100%|██████████| 35/35 [00:10<00:00,  3.47it/s]"
     ]
    },
    {
     "name": "stdout",
     "output_type": "stream",
     "text": [
      "                   all        754        950      0.819      0.767      0.845      0.586\n"
     ]
    },
    {
     "name": "stderr",
     "output_type": "stream",
     "text": [
      "\n"
     ]
    },
    {
     "name": "stdout",
     "output_type": "stream",
     "text": [
      "\n",
      "      Epoch    GPU_mem   box_loss   cls_loss   dfl_loss  Instances       Size\n"
     ]
    },
    {
     "name": "stderr",
     "output_type": "stream",
     "text": [
      "      24/30      4.91G      1.031      0.871       1.26          9        640: 100%|██████████| 92/92 [00:29<00:00,  3.15it/s]\n",
      "                 Class     Images  Instances      Box(P          R      mAP50  mAP50-95): 100%|██████████| 35/35 [00:10<00:00,  3.44it/s]"
     ]
    },
    {
     "name": "stdout",
     "output_type": "stream",
     "text": [
      "                   all        754        950      0.815      0.781      0.865      0.604\n"
     ]
    },
    {
     "name": "stderr",
     "output_type": "stream",
     "text": [
      "\n"
     ]
    },
    {
     "name": "stdout",
     "output_type": "stream",
     "text": [
      "\n",
      "      Epoch    GPU_mem   box_loss   cls_loss   dfl_loss  Instances       Size\n"
     ]
    },
    {
     "name": "stderr",
     "output_type": "stream",
     "text": [
      "      25/30      4.82G      1.011     0.8286      1.252          5        640: 100%|██████████| 92/92 [00:29<00:00,  3.16it/s]\n",
      "                 Class     Images  Instances      Box(P          R      mAP50  mAP50-95): 100%|██████████| 35/35 [00:10<00:00,  3.43it/s]"
     ]
    },
    {
     "name": "stdout",
     "output_type": "stream",
     "text": [
      "                   all        754        950      0.832      0.776      0.863      0.601\n"
     ]
    },
    {
     "name": "stderr",
     "output_type": "stream",
     "text": [
      "\n"
     ]
    },
    {
     "name": "stdout",
     "output_type": "stream",
     "text": [
      "\n",
      "      Epoch    GPU_mem   box_loss   cls_loss   dfl_loss  Instances       Size\n"
     ]
    },
    {
     "name": "stderr",
     "output_type": "stream",
     "text": [
      "      26/30      4.92G     0.9827     0.8057      1.233          4        640: 100%|██████████| 92/92 [00:29<00:00,  3.16it/s]\n",
      "                 Class     Images  Instances      Box(P          R      mAP50  mAP50-95): 100%|██████████| 35/35 [00:10<00:00,  3.35it/s]"
     ]
    },
    {
     "name": "stdout",
     "output_type": "stream",
     "text": [
      "                   all        754        950      0.835      0.753      0.859      0.604\n"
     ]
    },
    {
     "name": "stderr",
     "output_type": "stream",
     "text": [
      "\n"
     ]
    },
    {
     "name": "stdout",
     "output_type": "stream",
     "text": [
      "\n",
      "      Epoch    GPU_mem   box_loss   cls_loss   dfl_loss  Instances       Size\n"
     ]
    },
    {
     "name": "stderr",
     "output_type": "stream",
     "text": [
      "      27/30      4.91G     0.9574     0.7601      1.225          4        640: 100%|██████████| 92/92 [00:29<00:00,  3.16it/s]\n",
      "                 Class     Images  Instances      Box(P          R      mAP50  mAP50-95): 100%|██████████| 35/35 [00:10<00:00,  3.43it/s]"
     ]
    },
    {
     "name": "stdout",
     "output_type": "stream",
     "text": [
      "                   all        754        950       0.86      0.789      0.884      0.638\n"
     ]
    },
    {
     "name": "stderr",
     "output_type": "stream",
     "text": [
      "\n"
     ]
    },
    {
     "name": "stdout",
     "output_type": "stream",
     "text": [
      "\n",
      "      Epoch    GPU_mem   box_loss   cls_loss   dfl_loss  Instances       Size\n"
     ]
    },
    {
     "name": "stderr",
     "output_type": "stream",
     "text": [
      "      28/30      4.82G      0.928     0.7277      1.192          4        640: 100%|██████████| 92/92 [00:28<00:00,  3.17it/s]\n",
      "                 Class     Images  Instances      Box(P          R      mAP50  mAP50-95): 100%|██████████| 35/35 [00:10<00:00,  3.45it/s]"
     ]
    },
    {
     "name": "stdout",
     "output_type": "stream",
     "text": [
      "                   all        754        950      0.862      0.763      0.875      0.627\n"
     ]
    },
    {
     "name": "stderr",
     "output_type": "stream",
     "text": [
      "\n"
     ]
    },
    {
     "name": "stdout",
     "output_type": "stream",
     "text": [
      "\n",
      "      Epoch    GPU_mem   box_loss   cls_loss   dfl_loss  Instances       Size\n"
     ]
    },
    {
     "name": "stderr",
     "output_type": "stream",
     "text": [
      "      29/30      4.91G     0.9296     0.7075      1.193          6        640: 100%|██████████| 92/92 [00:29<00:00,  3.15it/s]\n",
      "                 Class     Images  Instances      Box(P          R      mAP50  mAP50-95): 100%|██████████| 35/35 [00:10<00:00,  3.47it/s]"
     ]
    },
    {
     "name": "stdout",
     "output_type": "stream",
     "text": [
      "                   all        754        950      0.864      0.798      0.887      0.634\n"
     ]
    },
    {
     "name": "stderr",
     "output_type": "stream",
     "text": [
      "\n"
     ]
    },
    {
     "name": "stdout",
     "output_type": "stream",
     "text": [
      "\n",
      "      Epoch    GPU_mem   box_loss   cls_loss   dfl_loss  Instances       Size\n"
     ]
    },
    {
     "name": "stderr",
     "output_type": "stream",
     "text": [
      "      30/30      4.91G     0.8915     0.6886      1.167          4        640: 100%|██████████| 92/92 [00:29<00:00,  3.16it/s]\n",
      "                 Class     Images  Instances      Box(P          R      mAP50  mAP50-95): 100%|██████████| 35/35 [00:10<00:00,  3.49it/s]"
     ]
    },
    {
     "name": "stdout",
     "output_type": "stream",
     "text": [
      "                   all        754        950      0.839      0.795      0.877      0.627\n"
     ]
    },
    {
     "name": "stderr",
     "output_type": "stream",
     "text": [
      "\n"
     ]
    },
    {
     "name": "stdout",
     "output_type": "stream",
     "text": [
      "\n",
      "30 epochs completed in 0.363 hours.\n",
      "Optimizer stripped from runs\\detect\\train2\\weights\\last.pt, 52.0MB\n",
      "Optimizer stripped from runs\\detect\\train2\\weights\\best.pt, 52.0MB\n",
      "\n",
      "Validating runs\\detect\\train2\\weights\\best.pt...\n",
      "Ultralytics 8.3.23  Python-3.10.11 torch-2.5.1+cu118 CUDA:0 (NVIDIA GeForce RTX 4060, 8188MiB)\n",
      "Model summary (fused): 218 layers, 25,840,339 parameters, 0 gradients, 78.7 GFLOPs\n"
     ]
    },
    {
     "name": "stderr",
     "output_type": "stream",
     "text": [
      "                 Class     Images  Instances      Box(P          R      mAP50  mAP50-95): 100%|██████████| 35/35 [00:10<00:00,  3.39it/s]\n"
     ]
    },
    {
     "name": "stdout",
     "output_type": "stream",
     "text": [
      "                   all        754        950       0.86      0.788      0.884      0.638\n",
      "Speed: 0.3ms preprocess, 7.9ms inference, 0.0ms loss, 1.3ms postprocess per image\n",
      "Results saved to \u001b[1mruns\\detect\\train2\u001b[0m\n"
     ]
    },
    {
     "data": {
      "text/plain": [
       "ultralytics.utils.metrics.DetMetrics object with attributes:\n",
       "\n",
       "ap_class_index: array([0])\n",
       "box: ultralytics.utils.metrics.Metric object\n",
       "confusion_matrix: <ultralytics.utils.metrics.ConfusionMatrix object at 0x0000013485DAC400>\n",
       "curves: ['Precision-Recall(B)', 'F1-Confidence(B)', 'Precision-Confidence(B)', 'Recall-Confidence(B)']\n",
       "curves_results: [[array([          0,    0.001001,    0.002002,    0.003003,    0.004004,    0.005005,    0.006006,    0.007007,    0.008008,    0.009009,     0.01001,    0.011011,    0.012012,    0.013013,    0.014014,    0.015015,    0.016016,    0.017017,    0.018018,    0.019019,     0.02002,    0.021021,    0.022022,    0.023023,\n",
       "          0.024024,    0.025025,    0.026026,    0.027027,    0.028028,    0.029029,     0.03003,    0.031031,    0.032032,    0.033033,    0.034034,    0.035035,    0.036036,    0.037037,    0.038038,    0.039039,     0.04004,    0.041041,    0.042042,    0.043043,    0.044044,    0.045045,    0.046046,    0.047047,\n",
       "          0.048048,    0.049049,     0.05005,    0.051051,    0.052052,    0.053053,    0.054054,    0.055055,    0.056056,    0.057057,    0.058058,    0.059059,     0.06006,    0.061061,    0.062062,    0.063063,    0.064064,    0.065065,    0.066066,    0.067067,    0.068068,    0.069069,     0.07007,    0.071071,\n",
       "          0.072072,    0.073073,    0.074074,    0.075075,    0.076076,    0.077077,    0.078078,    0.079079,     0.08008,    0.081081,    0.082082,    0.083083,    0.084084,    0.085085,    0.086086,    0.087087,    0.088088,    0.089089,     0.09009,    0.091091,    0.092092,    0.093093,    0.094094,    0.095095,\n",
       "          0.096096,    0.097097,    0.098098,    0.099099,      0.1001,      0.1011,      0.1021,      0.1031,      0.1041,     0.10511,     0.10611,     0.10711,     0.10811,     0.10911,     0.11011,     0.11111,     0.11211,     0.11311,     0.11411,     0.11512,     0.11612,     0.11712,     0.11812,     0.11912,\n",
       "           0.12012,     0.12112,     0.12212,     0.12312,     0.12412,     0.12513,     0.12613,     0.12713,     0.12813,     0.12913,     0.13013,     0.13113,     0.13213,     0.13313,     0.13413,     0.13514,     0.13614,     0.13714,     0.13814,     0.13914,     0.14014,     0.14114,     0.14214,     0.14314,\n",
       "           0.14414,     0.14515,     0.14615,     0.14715,     0.14815,     0.14915,     0.15015,     0.15115,     0.15215,     0.15315,     0.15415,     0.15516,     0.15616,     0.15716,     0.15816,     0.15916,     0.16016,     0.16116,     0.16216,     0.16316,     0.16416,     0.16517,     0.16617,     0.16717,\n",
       "           0.16817,     0.16917,     0.17017,     0.17117,     0.17217,     0.17317,     0.17417,     0.17518,     0.17618,     0.17718,     0.17818,     0.17918,     0.18018,     0.18118,     0.18218,     0.18318,     0.18418,     0.18519,     0.18619,     0.18719,     0.18819,     0.18919,     0.19019,     0.19119,\n",
       "           0.19219,     0.19319,     0.19419,      0.1952,      0.1962,      0.1972,      0.1982,      0.1992,      0.2002,      0.2012,      0.2022,      0.2032,      0.2042,     0.20521,     0.20621,     0.20721,     0.20821,     0.20921,     0.21021,     0.21121,     0.21221,     0.21321,     0.21421,     0.21522,\n",
       "           0.21622,     0.21722,     0.21822,     0.21922,     0.22022,     0.22122,     0.22222,     0.22322,     0.22422,     0.22523,     0.22623,     0.22723,     0.22823,     0.22923,     0.23023,     0.23123,     0.23223,     0.23323,     0.23423,     0.23524,     0.23624,     0.23724,     0.23824,     0.23924,\n",
       "           0.24024,     0.24124,     0.24224,     0.24324,     0.24424,     0.24525,     0.24625,     0.24725,     0.24825,     0.24925,     0.25025,     0.25125,     0.25225,     0.25325,     0.25425,     0.25526,     0.25626,     0.25726,     0.25826,     0.25926,     0.26026,     0.26126,     0.26226,     0.26326,\n",
       "           0.26426,     0.26527,     0.26627,     0.26727,     0.26827,     0.26927,     0.27027,     0.27127,     0.27227,     0.27327,     0.27427,     0.27528,     0.27628,     0.27728,     0.27828,     0.27928,     0.28028,     0.28128,     0.28228,     0.28328,     0.28428,     0.28529,     0.28629,     0.28729,\n",
       "           0.28829,     0.28929,     0.29029,     0.29129,     0.29229,     0.29329,     0.29429,      0.2953,      0.2963,      0.2973,      0.2983,      0.2993,      0.3003,      0.3013,      0.3023,      0.3033,      0.3043,     0.30531,     0.30631,     0.30731,     0.30831,     0.30931,     0.31031,     0.31131,\n",
       "           0.31231,     0.31331,     0.31431,     0.31532,     0.31632,     0.31732,     0.31832,     0.31932,     0.32032,     0.32132,     0.32232,     0.32332,     0.32432,     0.32533,     0.32633,     0.32733,     0.32833,     0.32933,     0.33033,     0.33133,     0.33233,     0.33333,     0.33433,     0.33534,\n",
       "           0.33634,     0.33734,     0.33834,     0.33934,     0.34034,     0.34134,     0.34234,     0.34334,     0.34434,     0.34535,     0.34635,     0.34735,     0.34835,     0.34935,     0.35035,     0.35135,     0.35235,     0.35335,     0.35435,     0.35536,     0.35636,     0.35736,     0.35836,     0.35936,\n",
       "           0.36036,     0.36136,     0.36236,     0.36336,     0.36436,     0.36537,     0.36637,     0.36737,     0.36837,     0.36937,     0.37037,     0.37137,     0.37237,     0.37337,     0.37437,     0.37538,     0.37638,     0.37738,     0.37838,     0.37938,     0.38038,     0.38138,     0.38238,     0.38338,\n",
       "           0.38438,     0.38539,     0.38639,     0.38739,     0.38839,     0.38939,     0.39039,     0.39139,     0.39239,     0.39339,     0.39439,      0.3954,      0.3964,      0.3974,      0.3984,      0.3994,      0.4004,      0.4014,      0.4024,      0.4034,      0.4044,     0.40541,     0.40641,     0.40741,\n",
       "           0.40841,     0.40941,     0.41041,     0.41141,     0.41241,     0.41341,     0.41441,     0.41542,     0.41642,     0.41742,     0.41842,     0.41942,     0.42042,     0.42142,     0.42242,     0.42342,     0.42442,     0.42543,     0.42643,     0.42743,     0.42843,     0.42943,     0.43043,     0.43143,\n",
       "           0.43243,     0.43343,     0.43443,     0.43544,     0.43644,     0.43744,     0.43844,     0.43944,     0.44044,     0.44144,     0.44244,     0.44344,     0.44444,     0.44545,     0.44645,     0.44745,     0.44845,     0.44945,     0.45045,     0.45145,     0.45245,     0.45345,     0.45445,     0.45546,\n",
       "           0.45646,     0.45746,     0.45846,     0.45946,     0.46046,     0.46146,     0.46246,     0.46346,     0.46446,     0.46547,     0.46647,     0.46747,     0.46847,     0.46947,     0.47047,     0.47147,     0.47247,     0.47347,     0.47447,     0.47548,     0.47648,     0.47748,     0.47848,     0.47948,\n",
       "           0.48048,     0.48148,     0.48248,     0.48348,     0.48448,     0.48549,     0.48649,     0.48749,     0.48849,     0.48949,     0.49049,     0.49149,     0.49249,     0.49349,     0.49449,      0.4955,      0.4965,      0.4975,      0.4985,      0.4995,      0.5005,      0.5015,      0.5025,      0.5035,\n",
       "            0.5045,     0.50551,     0.50651,     0.50751,     0.50851,     0.50951,     0.51051,     0.51151,     0.51251,     0.51351,     0.51451,     0.51552,     0.51652,     0.51752,     0.51852,     0.51952,     0.52052,     0.52152,     0.52252,     0.52352,     0.52452,     0.52553,     0.52653,     0.52753,\n",
       "           0.52853,     0.52953,     0.53053,     0.53153,     0.53253,     0.53353,     0.53453,     0.53554,     0.53654,     0.53754,     0.53854,     0.53954,     0.54054,     0.54154,     0.54254,     0.54354,     0.54454,     0.54555,     0.54655,     0.54755,     0.54855,     0.54955,     0.55055,     0.55155,\n",
       "           0.55255,     0.55355,     0.55455,     0.55556,     0.55656,     0.55756,     0.55856,     0.55956,     0.56056,     0.56156,     0.56256,     0.56356,     0.56456,     0.56557,     0.56657,     0.56757,     0.56857,     0.56957,     0.57057,     0.57157,     0.57257,     0.57357,     0.57457,     0.57558,\n",
       "           0.57658,     0.57758,     0.57858,     0.57958,     0.58058,     0.58158,     0.58258,     0.58358,     0.58458,     0.58559,     0.58659,     0.58759,     0.58859,     0.58959,     0.59059,     0.59159,     0.59259,     0.59359,     0.59459,      0.5956,      0.5966,      0.5976,      0.5986,      0.5996,\n",
       "            0.6006,      0.6016,      0.6026,      0.6036,      0.6046,     0.60561,     0.60661,     0.60761,     0.60861,     0.60961,     0.61061,     0.61161,     0.61261,     0.61361,     0.61461,     0.61562,     0.61662,     0.61762,     0.61862,     0.61962,     0.62062,     0.62162,     0.62262,     0.62362,\n",
       "           0.62462,     0.62563,     0.62663,     0.62763,     0.62863,     0.62963,     0.63063,     0.63163,     0.63263,     0.63363,     0.63463,     0.63564,     0.63664,     0.63764,     0.63864,     0.63964,     0.64064,     0.64164,     0.64264,     0.64364,     0.64464,     0.64565,     0.64665,     0.64765,\n",
       "           0.64865,     0.64965,     0.65065,     0.65165,     0.65265,     0.65365,     0.65465,     0.65566,     0.65666,     0.65766,     0.65866,     0.65966,     0.66066,     0.66166,     0.66266,     0.66366,     0.66466,     0.66567,     0.66667,     0.66767,     0.66867,     0.66967,     0.67067,     0.67167,\n",
       "           0.67267,     0.67367,     0.67467,     0.67568,     0.67668,     0.67768,     0.67868,     0.67968,     0.68068,     0.68168,     0.68268,     0.68368,     0.68468,     0.68569,     0.68669,     0.68769,     0.68869,     0.68969,     0.69069,     0.69169,     0.69269,     0.69369,     0.69469,      0.6957,\n",
       "            0.6967,      0.6977,      0.6987,      0.6997,      0.7007,      0.7017,      0.7027,      0.7037,      0.7047,     0.70571,     0.70671,     0.70771,     0.70871,     0.70971,     0.71071,     0.71171,     0.71271,     0.71371,     0.71471,     0.71572,     0.71672,     0.71772,     0.71872,     0.71972,\n",
       "           0.72072,     0.72172,     0.72272,     0.72372,     0.72472,     0.72573,     0.72673,     0.72773,     0.72873,     0.72973,     0.73073,     0.73173,     0.73273,     0.73373,     0.73473,     0.73574,     0.73674,     0.73774,     0.73874,     0.73974,     0.74074,     0.74174,     0.74274,     0.74374,\n",
       "           0.74474,     0.74575,     0.74675,     0.74775,     0.74875,     0.74975,     0.75075,     0.75175,     0.75275,     0.75375,     0.75475,     0.75576,     0.75676,     0.75776,     0.75876,     0.75976,     0.76076,     0.76176,     0.76276,     0.76376,     0.76476,     0.76577,     0.76677,     0.76777,\n",
       "           0.76877,     0.76977,     0.77077,     0.77177,     0.77277,     0.77377,     0.77477,     0.77578,     0.77678,     0.77778,     0.77878,     0.77978,     0.78078,     0.78178,     0.78278,     0.78378,     0.78478,     0.78579,     0.78679,     0.78779,     0.78879,     0.78979,     0.79079,     0.79179,\n",
       "           0.79279,     0.79379,     0.79479,      0.7958,      0.7968,      0.7978,      0.7988,      0.7998,      0.8008,      0.8018,      0.8028,      0.8038,      0.8048,     0.80581,     0.80681,     0.80781,     0.80881,     0.80981,     0.81081,     0.81181,     0.81281,     0.81381,     0.81481,     0.81582,\n",
       "           0.81682,     0.81782,     0.81882,     0.81982,     0.82082,     0.82182,     0.82282,     0.82382,     0.82482,     0.82583,     0.82683,     0.82783,     0.82883,     0.82983,     0.83083,     0.83183,     0.83283,     0.83383,     0.83483,     0.83584,     0.83684,     0.83784,     0.83884,     0.83984,\n",
       "           0.84084,     0.84184,     0.84284,     0.84384,     0.84484,     0.84585,     0.84685,     0.84785,     0.84885,     0.84985,     0.85085,     0.85185,     0.85285,     0.85385,     0.85485,     0.85586,     0.85686,     0.85786,     0.85886,     0.85986,     0.86086,     0.86186,     0.86286,     0.86386,\n",
       "           0.86486,     0.86587,     0.86687,     0.86787,     0.86887,     0.86987,     0.87087,     0.87187,     0.87287,     0.87387,     0.87487,     0.87588,     0.87688,     0.87788,     0.87888,     0.87988,     0.88088,     0.88188,     0.88288,     0.88388,     0.88488,     0.88589,     0.88689,     0.88789,\n",
       "           0.88889,     0.88989,     0.89089,     0.89189,     0.89289,     0.89389,     0.89489,      0.8959,      0.8969,      0.8979,      0.8989,      0.8999,      0.9009,      0.9019,      0.9029,      0.9039,      0.9049,     0.90591,     0.90691,     0.90791,     0.90891,     0.90991,     0.91091,     0.91191,\n",
       "           0.91291,     0.91391,     0.91491,     0.91592,     0.91692,     0.91792,     0.91892,     0.91992,     0.92092,     0.92192,     0.92292,     0.92392,     0.92492,     0.92593,     0.92693,     0.92793,     0.92893,     0.92993,     0.93093,     0.93193,     0.93293,     0.93393,     0.93493,     0.93594,\n",
       "           0.93694,     0.93794,     0.93894,     0.93994,     0.94094,     0.94194,     0.94294,     0.94394,     0.94494,     0.94595,     0.94695,     0.94795,     0.94895,     0.94995,     0.95095,     0.95195,     0.95295,     0.95395,     0.95495,     0.95596,     0.95696,     0.95796,     0.95896,     0.95996,\n",
       "           0.96096,     0.96196,     0.96296,     0.96396,     0.96496,     0.96597,     0.96697,     0.96797,     0.96897,     0.96997,     0.97097,     0.97197,     0.97297,     0.97397,     0.97497,     0.97598,     0.97698,     0.97798,     0.97898,     0.97998,     0.98098,     0.98198,     0.98298,     0.98398,\n",
       "           0.98498,     0.98599,     0.98699,     0.98799,     0.98899,     0.98999,     0.99099,     0.99199,     0.99299,     0.99399,     0.99499,       0.996,       0.997,       0.998,       0.999,           1]), array([[          1,           1,           1,           1,           1,           1,           1,           1,           1,           1,           1,           1,           1,           1,           1,           1,           1,           1,           1,           1,           1,           1,           1,\n",
       "                  1,           1,           1,           1,           1,           1,           1,           1,           1,           1,           1,           1,           1,           1,           1,           1,           1,           1,           1,           1,           1,           1,           1,\n",
       "                  1,           1,           1,           1,           1,           1,           1,           1,           1,           1,           1,           1,           1,           1,           1,           1,           1,           1,           1,           1,           1,           1,           1,\n",
       "                  1,           1,           1,           1,           1,           1,           1,           1,           1,           1,           1,           1,           1,           1,           1,           1,           1,           1,           1,           1,           1,           1,           1,\n",
       "                  1,           1,           1,           1,           1,           1,           1,           1,           1,           1,           1,           1,           1,           1,           1,           1,           1,           1,           1,           1,           1,           1,           1,\n",
       "                  1,           1,           1,           1,           1,           1,           1,           1,           1,           1,           1,           1,           1,           1,           1,           1,           1,           1,           1,           1,           1,           1,           1,\n",
       "                  1,           1,           1,           1,           1,           1,           1,           1,           1,           1,           1,           1,           1,           1,           1,           1,           1,           1,           1,           1,           1,           1,           1,\n",
       "                  1,           1,           1,           1,           1,           1,           1,           1,           1,           1,           1,           1,           1,           1,           1,           1,           1,           1,           1,           1,           1,           1,           1,\n",
       "                  1,           1,           1,           1,           1,           1,           1,           1,           1,           1,           1,           1,           1,           1,           1,           1,           1,           1,           1,           1,           1,           1,           1,\n",
       "                  1,           1,           1,           1,           1,           1,           1,           1,           1,           1,           1,           1,           1,           1,           1,           1,           1,           1,           1,           1,           1,           1,           1,\n",
       "                  1,     0.99699,     0.99699,     0.99699,     0.99699,     0.99699,     0.99699,     0.99699,     0.99699,     0.99699,     0.99699,     0.99699,     0.99699,     0.99699,     0.99699,     0.99699,     0.99699,     0.99699,     0.99699,     0.99699,     0.99699,     0.99699,     0.99699,\n",
       "            0.99699,     0.99699,     0.99699,     0.99699,     0.99699,     0.99699,     0.99699,     0.99699,     0.99699,     0.99699,     0.99699,     0.99699,     0.99699,     0.99699,     0.99699,     0.99699,     0.99699,     0.99699,     0.99699,     0.99699,     0.99699,     0.99699,     0.99699,\n",
       "            0.99699,     0.99699,     0.99699,     0.99699,     0.99699,     0.99699,     0.99699,     0.99699,     0.99699,     0.99699,     0.99699,     0.99699,     0.99699,     0.99699,     0.99699,     0.99699,     0.99699,     0.99699,     0.99699,     0.99699,     0.99699,     0.99699,     0.99699,\n",
       "            0.99699,     0.99699,     0.99699,     0.99699,     0.99699,     0.99699,     0.99699,     0.99699,     0.99699,     0.99699,     0.99699,     0.99699,     0.99699,     0.99699,     0.99699,     0.99699,     0.99699,     0.99699,     0.99699,     0.99699,     0.99699,     0.99699,     0.99699,\n",
       "            0.99699,     0.99699,     0.99699,     0.99699,     0.99699,     0.99699,     0.99699,     0.99699,     0.99699,     0.99699,     0.99699,     0.99699,     0.99699,     0.99699,     0.99699,     0.99699,     0.99699,     0.99699,     0.99699,     0.99699,     0.99699,     0.99699,     0.99699,\n",
       "            0.99699,     0.99699,     0.99699,     0.99699,     0.99478,     0.99478,     0.99478,     0.99478,     0.99478,     0.99478,     0.99478,     0.99478,     0.99478,     0.99478,     0.99478,     0.99478,     0.99478,     0.99478,     0.99478,     0.99478,     0.99478,     0.99478,     0.99478,\n",
       "            0.99478,     0.99478,     0.99478,     0.99478,     0.99478,     0.99478,     0.99478,     0.99478,     0.99478,     0.99478,     0.99478,     0.99478,     0.99478,     0.99478,     0.99478,     0.99478,     0.99478,     0.99478,     0.99478,     0.99478,     0.99478,     0.99478,     0.99478,\n",
       "            0.99478,     0.99478,     0.99478,     0.99478,     0.99478,     0.99478,     0.99478,     0.99478,     0.99478,     0.99478,     0.99229,     0.99229,     0.99229,     0.99229,     0.99229,     0.99005,     0.99005,     0.99005,     0.99005,     0.99005,     0.99005,     0.99005,     0.99005,\n",
       "            0.99005,     0.99005,     0.99005,     0.99005,     0.99005,     0.98792,     0.98792,     0.98792,     0.98792,     0.98792,     0.98792,     0.98792,     0.98792,     0.98792,     0.98792,     0.98792,     0.98792,     0.98621,     0.98621,     0.98621,     0.98621,     0.98621,     0.98621,\n",
       "            0.98621,     0.98621,     0.98621,     0.98621,     0.98621,     0.98621,     0.98621,     0.98621,     0.98621,     0.98621,     0.98621,     0.98621,     0.98621,     0.98621,     0.98621,     0.98511,     0.98511,     0.98511,     0.98511,     0.98511,     0.98511,     0.98511,     0.98511,\n",
       "            0.98511,     0.98511,     0.98511,     0.98511,     0.98511,     0.98511,     0.98511,     0.98511,     0.98511,     0.98511,     0.98511,     0.98511,     0.98511,     0.98511,     0.98511,     0.98511,     0.98511,     0.98511,     0.98511,     0.98511,     0.98511,     0.98511,     0.98511,\n",
       "            0.98511,     0.98511,     0.98511,     0.98511,     0.98312,     0.98312,     0.98312,     0.98312,     0.98221,     0.98221,     0.98221,     0.98221,     0.98221,     0.98221,     0.98221,     0.98221,     0.98221,     0.98221,     0.98221,     0.98221,     0.98221,     0.98221,     0.98221,\n",
       "            0.98221,     0.98221,     0.98221,     0.98221,     0.98221,     0.98221,     0.98221,     0.98221,     0.98221,     0.98221,     0.98221,     0.98221,     0.98221,     0.98221,     0.98221,     0.98221,     0.98221,     0.98131,     0.98131,     0.98131,     0.98131,     0.98131,     0.98131,\n",
       "            0.98131,     0.98131,     0.98131,     0.98131,     0.98131,     0.98131,     0.98131,     0.98131,     0.98131,     0.98131,     0.98131,     0.98131,     0.98131,     0.98131,     0.98131,     0.98131,     0.98131,     0.98131,     0.98131,     0.98131,     0.98131,     0.98131,     0.98131,\n",
       "            0.98131,     0.97967,     0.97967,     0.97967,     0.97967,     0.97967,     0.97842,     0.97842,     0.97842,     0.97842,     0.97842,     0.97842,     0.97842,     0.97842,     0.97842,     0.97842,     0.97842,     0.97842,     0.97842,     0.97842,     0.97842,     0.97707,     0.97707,\n",
       "            0.97707,     0.97707,     0.97707,     0.97707,     0.97707,     0.97707,     0.97707,     0.97707,     0.97552,     0.97552,     0.97552,     0.97552,     0.97414,     0.97414,     0.97414,     0.97414,     0.97414,     0.97414,     0.97414,     0.97414,     0.97104,     0.97104,     0.97104,\n",
       "            0.97104,     0.97104,     0.96954,     0.96954,     0.96954,     0.96817,     0.96817,     0.96817,     0.96817,     0.96817,     0.96672,     0.96672,     0.96672,     0.96523,     0.96523,     0.96523,      0.9637,      0.9626,      0.9626,      0.9626,      0.9626,      0.9626,      0.9626,\n",
       "             0.9626,      0.9626,      0.9611,     0.95813,     0.95813,     0.95687,     0.95687,     0.95687,     0.95687,      0.9557,      0.9557,      0.9557,      0.9557,      0.9557,      0.9557,      0.9549,      0.9549,      0.9549,      0.9549,      0.9549,      0.9549,      0.9549,      0.9549,\n",
       "             0.9549,      0.9549,     0.95324,     0.95324,     0.95324,     0.95324,     0.95324,     0.95324,     0.95324,     0.95324,     0.95324,     0.95324,     0.95324,     0.95324,     0.95324,     0.95324,     0.95324,     0.95324,     0.95324,     0.95324,     0.95324,     0.95082,     0.95082,\n",
       "            0.95082,     0.95082,     0.95082,     0.95082,      0.9497,      0.9497,      0.9497,      0.9497,      0.9497,     0.94845,     0.94845,     0.94721,     0.94721,     0.94591,     0.94058,     0.94058,     0.93931,     0.93813,     0.93813,     0.93705,     0.93705,     0.93705,      0.9359,\n",
       "             0.9359,     0.93362,     0.93362,     0.93362,     0.93362,     0.93362,     0.93239,     0.92737,     0.92737,     0.92562,     0.92562,     0.92562,     0.92562,     0.92562,     0.92562,     0.92562,     0.92562,     0.92455,     0.92455,      0.9236,      0.9236,      0.9236,     0.92255,\n",
       "            0.92255,     0.92255,     0.92141,     0.92059,     0.92059,     0.92059,     0.92059,     0.91968,     0.91968,     0.91968,     0.91755,     0.91755,     0.91755,     0.91689,     0.91689,     0.91689,     0.91689,     0.91689,     0.91339,     0.91237,     0.91237,     0.91237,     0.91237,\n",
       "            0.91237,     0.91237,     0.91237,     0.91237,     0.91237,     0.91237,     0.91237,     0.91237,     0.91237,     0.91131,     0.91026,     0.90013,     0.90013,     0.89539,     0.89539,     0.89539,     0.89539,     0.89539,     0.89539,     0.89539,     0.89539,     0.89441,     0.89356,\n",
       "            0.89356,     0.89259,     0.89066,     0.89066,     0.88821,     0.88821,     0.88821,     0.88821,     0.88821,     0.88821,     0.88727,     0.88235,     0.88235,     0.88235,     0.87767,     0.87767,     0.87767,     0.87767,     0.87767,     0.87618,     0.87618,     0.87618,     0.87618,\n",
       "            0.87427,     0.87368,     0.87368,     0.87368,     0.87281,     0.86191,     0.86041,     0.86041,     0.86041,     0.85682,     0.85682,     0.85617,     0.85617,      0.8509,      0.8509,      0.8509,      0.8509,     0.84916,     0.84292,     0.84292,     0.84251,     0.84251,     0.84251,\n",
       "            0.84044,     0.84044,     0.84044,     0.84044,     0.83969,     0.83713,      0.8355,     0.83297,     0.83226,     0.82185,     0.81598,     0.81598,     0.81276,     0.80705,     0.80642,     0.80082,     0.79939,     0.79877,     0.79817,     0.79615,     0.79615,     0.79555,     0.79495,\n",
       "            0.79477,     0.79477,     0.79477,     0.79338,     0.78963,     0.78905,     0.78227,     0.77485,     0.77485,     0.77454,     0.77454,     0.77401,     0.77348,      0.7722,     0.77019,     0.76894,     0.76042,      0.7521,     0.74675,     0.74354,     0.73699,     0.73122,     0.72883,\n",
       "            0.72776,      0.7267,     0.72654,     0.72654,     0.72291,     0.72188,     0.72188,     0.72007,     0.72007,     0.72007,      0.7193,      0.7193,     0.71829,     0.71665,     0.71071,      0.7073,     0.70694,      0.6973,      0.6973,     0.69289,     0.68569,     0.67977,     0.67781,\n",
       "            0.67259,     0.65591,     0.65566,     0.65566,     0.64379,     0.63963,     0.63602,     0.63533,     0.61018,     0.60781,     0.59815,     0.59674,      0.5966,     0.57572,     0.57444,     0.57326,     0.57326,     0.57326,     0.57326,     0.57124,     0.56432,      0.5609,     0.56045,\n",
       "             0.5589,      0.5589,     0.55882,     0.54766,     0.54344,     0.54235,     0.52797,     0.52728,     0.52087,     0.50766,     0.47033,     0.47033,     0.46807,     0.46335,     0.46093,     0.45421,     0.45213,     0.44479,     0.44079,     0.43622,     0.43196,     0.43196,     0.43054,\n",
       "            0.42794,     0.42794,     0.42552,     0.42375,     0.41977,     0.41026,     0.41004,     0.41004,     0.40729,     0.40476,     0.40393,     0.40054,     0.39901,     0.39607,     0.39043,     0.38984,     0.38605,     0.37845,     0.37845,     0.37146,     0.37142,     0.36801,     0.36571,\n",
       "            0.36478,     0.35692,     0.35632,     0.35143,     0.34801,     0.34546,     0.34492,      0.3432,     0.34035,     0.33933,     0.33705,     0.33705,      0.3337,     0.33212,     0.33043,     0.33043,     0.33043,     0.32689,      0.3092,     0.30891,     0.29721,     0.29476,     0.29106,\n",
       "            0.28719,      0.2734,     0.27192,     0.26532,     0.25164,     0.24614,     0.20895,      0.1994,     0.19228,     0.17569,     0.17258,     0.16501,     0.15535,     0.15535,     0.13453,     0.13213,     0.11935,     0.11626,      0.1007,     0.09535,    0.088539,    0.081728,    0.074918,\n",
       "           0.068107,    0.061296,    0.054486,    0.047675,    0.040864,    0.034053,    0.027243,    0.020432,    0.013621,   0.0068107,           0]]), 'Recall', 'Precision'], [array([          0,    0.001001,    0.002002,    0.003003,    0.004004,    0.005005,    0.006006,    0.007007,    0.008008,    0.009009,     0.01001,    0.011011,    0.012012,    0.013013,    0.014014,    0.015015,    0.016016,    0.017017,    0.018018,    0.019019,     0.02002,    0.021021,    0.022022,    0.023023,\n",
       "          0.024024,    0.025025,    0.026026,    0.027027,    0.028028,    0.029029,     0.03003,    0.031031,    0.032032,    0.033033,    0.034034,    0.035035,    0.036036,    0.037037,    0.038038,    0.039039,     0.04004,    0.041041,    0.042042,    0.043043,    0.044044,    0.045045,    0.046046,    0.047047,\n",
       "          0.048048,    0.049049,     0.05005,    0.051051,    0.052052,    0.053053,    0.054054,    0.055055,    0.056056,    0.057057,    0.058058,    0.059059,     0.06006,    0.061061,    0.062062,    0.063063,    0.064064,    0.065065,    0.066066,    0.067067,    0.068068,    0.069069,     0.07007,    0.071071,\n",
       "          0.072072,    0.073073,    0.074074,    0.075075,    0.076076,    0.077077,    0.078078,    0.079079,     0.08008,    0.081081,    0.082082,    0.083083,    0.084084,    0.085085,    0.086086,    0.087087,    0.088088,    0.089089,     0.09009,    0.091091,    0.092092,    0.093093,    0.094094,    0.095095,\n",
       "          0.096096,    0.097097,    0.098098,    0.099099,      0.1001,      0.1011,      0.1021,      0.1031,      0.1041,     0.10511,     0.10611,     0.10711,     0.10811,     0.10911,     0.11011,     0.11111,     0.11211,     0.11311,     0.11411,     0.11512,     0.11612,     0.11712,     0.11812,     0.11912,\n",
       "           0.12012,     0.12112,     0.12212,     0.12312,     0.12412,     0.12513,     0.12613,     0.12713,     0.12813,     0.12913,     0.13013,     0.13113,     0.13213,     0.13313,     0.13413,     0.13514,     0.13614,     0.13714,     0.13814,     0.13914,     0.14014,     0.14114,     0.14214,     0.14314,\n",
       "           0.14414,     0.14515,     0.14615,     0.14715,     0.14815,     0.14915,     0.15015,     0.15115,     0.15215,     0.15315,     0.15415,     0.15516,     0.15616,     0.15716,     0.15816,     0.15916,     0.16016,     0.16116,     0.16216,     0.16316,     0.16416,     0.16517,     0.16617,     0.16717,\n",
       "           0.16817,     0.16917,     0.17017,     0.17117,     0.17217,     0.17317,     0.17417,     0.17518,     0.17618,     0.17718,     0.17818,     0.17918,     0.18018,     0.18118,     0.18218,     0.18318,     0.18418,     0.18519,     0.18619,     0.18719,     0.18819,     0.18919,     0.19019,     0.19119,\n",
       "           0.19219,     0.19319,     0.19419,      0.1952,      0.1962,      0.1972,      0.1982,      0.1992,      0.2002,      0.2012,      0.2022,      0.2032,      0.2042,     0.20521,     0.20621,     0.20721,     0.20821,     0.20921,     0.21021,     0.21121,     0.21221,     0.21321,     0.21421,     0.21522,\n",
       "           0.21622,     0.21722,     0.21822,     0.21922,     0.22022,     0.22122,     0.22222,     0.22322,     0.22422,     0.22523,     0.22623,     0.22723,     0.22823,     0.22923,     0.23023,     0.23123,     0.23223,     0.23323,     0.23423,     0.23524,     0.23624,     0.23724,     0.23824,     0.23924,\n",
       "           0.24024,     0.24124,     0.24224,     0.24324,     0.24424,     0.24525,     0.24625,     0.24725,     0.24825,     0.24925,     0.25025,     0.25125,     0.25225,     0.25325,     0.25425,     0.25526,     0.25626,     0.25726,     0.25826,     0.25926,     0.26026,     0.26126,     0.26226,     0.26326,\n",
       "           0.26426,     0.26527,     0.26627,     0.26727,     0.26827,     0.26927,     0.27027,     0.27127,     0.27227,     0.27327,     0.27427,     0.27528,     0.27628,     0.27728,     0.27828,     0.27928,     0.28028,     0.28128,     0.28228,     0.28328,     0.28428,     0.28529,     0.28629,     0.28729,\n",
       "           0.28829,     0.28929,     0.29029,     0.29129,     0.29229,     0.29329,     0.29429,      0.2953,      0.2963,      0.2973,      0.2983,      0.2993,      0.3003,      0.3013,      0.3023,      0.3033,      0.3043,     0.30531,     0.30631,     0.30731,     0.30831,     0.30931,     0.31031,     0.31131,\n",
       "           0.31231,     0.31331,     0.31431,     0.31532,     0.31632,     0.31732,     0.31832,     0.31932,     0.32032,     0.32132,     0.32232,     0.32332,     0.32432,     0.32533,     0.32633,     0.32733,     0.32833,     0.32933,     0.33033,     0.33133,     0.33233,     0.33333,     0.33433,     0.33534,\n",
       "           0.33634,     0.33734,     0.33834,     0.33934,     0.34034,     0.34134,     0.34234,     0.34334,     0.34434,     0.34535,     0.34635,     0.34735,     0.34835,     0.34935,     0.35035,     0.35135,     0.35235,     0.35335,     0.35435,     0.35536,     0.35636,     0.35736,     0.35836,     0.35936,\n",
       "           0.36036,     0.36136,     0.36236,     0.36336,     0.36436,     0.36537,     0.36637,     0.36737,     0.36837,     0.36937,     0.37037,     0.37137,     0.37237,     0.37337,     0.37437,     0.37538,     0.37638,     0.37738,     0.37838,     0.37938,     0.38038,     0.38138,     0.38238,     0.38338,\n",
       "           0.38438,     0.38539,     0.38639,     0.38739,     0.38839,     0.38939,     0.39039,     0.39139,     0.39239,     0.39339,     0.39439,      0.3954,      0.3964,      0.3974,      0.3984,      0.3994,      0.4004,      0.4014,      0.4024,      0.4034,      0.4044,     0.40541,     0.40641,     0.40741,\n",
       "           0.40841,     0.40941,     0.41041,     0.41141,     0.41241,     0.41341,     0.41441,     0.41542,     0.41642,     0.41742,     0.41842,     0.41942,     0.42042,     0.42142,     0.42242,     0.42342,     0.42442,     0.42543,     0.42643,     0.42743,     0.42843,     0.42943,     0.43043,     0.43143,\n",
       "           0.43243,     0.43343,     0.43443,     0.43544,     0.43644,     0.43744,     0.43844,     0.43944,     0.44044,     0.44144,     0.44244,     0.44344,     0.44444,     0.44545,     0.44645,     0.44745,     0.44845,     0.44945,     0.45045,     0.45145,     0.45245,     0.45345,     0.45445,     0.45546,\n",
       "           0.45646,     0.45746,     0.45846,     0.45946,     0.46046,     0.46146,     0.46246,     0.46346,     0.46446,     0.46547,     0.46647,     0.46747,     0.46847,     0.46947,     0.47047,     0.47147,     0.47247,     0.47347,     0.47447,     0.47548,     0.47648,     0.47748,     0.47848,     0.47948,\n",
       "           0.48048,     0.48148,     0.48248,     0.48348,     0.48448,     0.48549,     0.48649,     0.48749,     0.48849,     0.48949,     0.49049,     0.49149,     0.49249,     0.49349,     0.49449,      0.4955,      0.4965,      0.4975,      0.4985,      0.4995,      0.5005,      0.5015,      0.5025,      0.5035,\n",
       "            0.5045,     0.50551,     0.50651,     0.50751,     0.50851,     0.50951,     0.51051,     0.51151,     0.51251,     0.51351,     0.51451,     0.51552,     0.51652,     0.51752,     0.51852,     0.51952,     0.52052,     0.52152,     0.52252,     0.52352,     0.52452,     0.52553,     0.52653,     0.52753,\n",
       "           0.52853,     0.52953,     0.53053,     0.53153,     0.53253,     0.53353,     0.53453,     0.53554,     0.53654,     0.53754,     0.53854,     0.53954,     0.54054,     0.54154,     0.54254,     0.54354,     0.54454,     0.54555,     0.54655,     0.54755,     0.54855,     0.54955,     0.55055,     0.55155,\n",
       "           0.55255,     0.55355,     0.55455,     0.55556,     0.55656,     0.55756,     0.55856,     0.55956,     0.56056,     0.56156,     0.56256,     0.56356,     0.56456,     0.56557,     0.56657,     0.56757,     0.56857,     0.56957,     0.57057,     0.57157,     0.57257,     0.57357,     0.57457,     0.57558,\n",
       "           0.57658,     0.57758,     0.57858,     0.57958,     0.58058,     0.58158,     0.58258,     0.58358,     0.58458,     0.58559,     0.58659,     0.58759,     0.58859,     0.58959,     0.59059,     0.59159,     0.59259,     0.59359,     0.59459,      0.5956,      0.5966,      0.5976,      0.5986,      0.5996,\n",
       "            0.6006,      0.6016,      0.6026,      0.6036,      0.6046,     0.60561,     0.60661,     0.60761,     0.60861,     0.60961,     0.61061,     0.61161,     0.61261,     0.61361,     0.61461,     0.61562,     0.61662,     0.61762,     0.61862,     0.61962,     0.62062,     0.62162,     0.62262,     0.62362,\n",
       "           0.62462,     0.62563,     0.62663,     0.62763,     0.62863,     0.62963,     0.63063,     0.63163,     0.63263,     0.63363,     0.63463,     0.63564,     0.63664,     0.63764,     0.63864,     0.63964,     0.64064,     0.64164,     0.64264,     0.64364,     0.64464,     0.64565,     0.64665,     0.64765,\n",
       "           0.64865,     0.64965,     0.65065,     0.65165,     0.65265,     0.65365,     0.65465,     0.65566,     0.65666,     0.65766,     0.65866,     0.65966,     0.66066,     0.66166,     0.66266,     0.66366,     0.66466,     0.66567,     0.66667,     0.66767,     0.66867,     0.66967,     0.67067,     0.67167,\n",
       "           0.67267,     0.67367,     0.67467,     0.67568,     0.67668,     0.67768,     0.67868,     0.67968,     0.68068,     0.68168,     0.68268,     0.68368,     0.68468,     0.68569,     0.68669,     0.68769,     0.68869,     0.68969,     0.69069,     0.69169,     0.69269,     0.69369,     0.69469,      0.6957,\n",
       "            0.6967,      0.6977,      0.6987,      0.6997,      0.7007,      0.7017,      0.7027,      0.7037,      0.7047,     0.70571,     0.70671,     0.70771,     0.70871,     0.70971,     0.71071,     0.71171,     0.71271,     0.71371,     0.71471,     0.71572,     0.71672,     0.71772,     0.71872,     0.71972,\n",
       "           0.72072,     0.72172,     0.72272,     0.72372,     0.72472,     0.72573,     0.72673,     0.72773,     0.72873,     0.72973,     0.73073,     0.73173,     0.73273,     0.73373,     0.73473,     0.73574,     0.73674,     0.73774,     0.73874,     0.73974,     0.74074,     0.74174,     0.74274,     0.74374,\n",
       "           0.74474,     0.74575,     0.74675,     0.74775,     0.74875,     0.74975,     0.75075,     0.75175,     0.75275,     0.75375,     0.75475,     0.75576,     0.75676,     0.75776,     0.75876,     0.75976,     0.76076,     0.76176,     0.76276,     0.76376,     0.76476,     0.76577,     0.76677,     0.76777,\n",
       "           0.76877,     0.76977,     0.77077,     0.77177,     0.77277,     0.77377,     0.77477,     0.77578,     0.77678,     0.77778,     0.77878,     0.77978,     0.78078,     0.78178,     0.78278,     0.78378,     0.78478,     0.78579,     0.78679,     0.78779,     0.78879,     0.78979,     0.79079,     0.79179,\n",
       "           0.79279,     0.79379,     0.79479,      0.7958,      0.7968,      0.7978,      0.7988,      0.7998,      0.8008,      0.8018,      0.8028,      0.8038,      0.8048,     0.80581,     0.80681,     0.80781,     0.80881,     0.80981,     0.81081,     0.81181,     0.81281,     0.81381,     0.81481,     0.81582,\n",
       "           0.81682,     0.81782,     0.81882,     0.81982,     0.82082,     0.82182,     0.82282,     0.82382,     0.82482,     0.82583,     0.82683,     0.82783,     0.82883,     0.82983,     0.83083,     0.83183,     0.83283,     0.83383,     0.83483,     0.83584,     0.83684,     0.83784,     0.83884,     0.83984,\n",
       "           0.84084,     0.84184,     0.84284,     0.84384,     0.84484,     0.84585,     0.84685,     0.84785,     0.84885,     0.84985,     0.85085,     0.85185,     0.85285,     0.85385,     0.85485,     0.85586,     0.85686,     0.85786,     0.85886,     0.85986,     0.86086,     0.86186,     0.86286,     0.86386,\n",
       "           0.86486,     0.86587,     0.86687,     0.86787,     0.86887,     0.86987,     0.87087,     0.87187,     0.87287,     0.87387,     0.87487,     0.87588,     0.87688,     0.87788,     0.87888,     0.87988,     0.88088,     0.88188,     0.88288,     0.88388,     0.88488,     0.88589,     0.88689,     0.88789,\n",
       "           0.88889,     0.88989,     0.89089,     0.89189,     0.89289,     0.89389,     0.89489,      0.8959,      0.8969,      0.8979,      0.8989,      0.8999,      0.9009,      0.9019,      0.9029,      0.9039,      0.9049,     0.90591,     0.90691,     0.90791,     0.90891,     0.90991,     0.91091,     0.91191,\n",
       "           0.91291,     0.91391,     0.91491,     0.91592,     0.91692,     0.91792,     0.91892,     0.91992,     0.92092,     0.92192,     0.92292,     0.92392,     0.92492,     0.92593,     0.92693,     0.92793,     0.92893,     0.92993,     0.93093,     0.93193,     0.93293,     0.93393,     0.93493,     0.93594,\n",
       "           0.93694,     0.93794,     0.93894,     0.93994,     0.94094,     0.94194,     0.94294,     0.94394,     0.94494,     0.94595,     0.94695,     0.94795,     0.94895,     0.94995,     0.95095,     0.95195,     0.95295,     0.95395,     0.95495,     0.95596,     0.95696,     0.95796,     0.95896,     0.95996,\n",
       "           0.96096,     0.96196,     0.96296,     0.96396,     0.96496,     0.96597,     0.96697,     0.96797,     0.96897,     0.96997,     0.97097,     0.97197,     0.97297,     0.97397,     0.97497,     0.97598,     0.97698,     0.97798,     0.97898,     0.97998,     0.98098,     0.98198,     0.98298,     0.98398,\n",
       "           0.98498,     0.98599,     0.98699,     0.98799,     0.98899,     0.98999,     0.99099,     0.99199,     0.99299,     0.99399,     0.99499,       0.996,       0.997,       0.998,       0.999,           1]), array([[    0.18201,     0.18201,     0.24394,     0.28615,     0.31904,     0.34608,     0.36733,     0.38652,     0.40237,     0.41709,     0.43196,     0.44354,     0.45202,     0.46222,     0.47075,     0.47714,     0.48679,     0.49143,     0.49773,     0.50196,     0.50709,     0.51089,     0.51546,\n",
       "            0.51984,     0.52463,     0.52816,     0.53237,     0.53498,     0.53886,      0.5431,     0.54655,      0.5483,      0.5505,     0.55217,     0.55502,     0.55782,     0.55942,      0.5608,     0.56317,     0.56473,     0.56836,      0.5696,     0.57203,     0.57546,     0.57733,     0.58056,\n",
       "            0.58228,     0.58379,     0.58512,     0.58766,     0.58889,     0.59127,     0.59333,     0.59471,       0.596,       0.598,      0.5985,     0.59951,     0.60134,     0.60372,     0.60409,      0.6063,     0.60689,     0.60755,     0.60857,     0.60997,     0.61201,     0.61351,     0.61567,\n",
       "            0.61726,     0.61777,     0.61871,     0.61957,     0.61995,     0.62222,     0.62333,     0.62461,     0.62724,     0.62875,     0.62994,     0.63116,     0.63191,     0.63335,      0.6356,     0.63627,      0.6371,     0.63791,     0.63874,     0.63962,     0.64064,      0.6419,      0.6427,\n",
       "            0.64383,     0.64503,     0.64649,     0.64776,     0.64896,      0.6499,     0.65154,     0.65274,     0.65521,     0.65593,     0.65724,     0.65831,     0.65999,     0.66049,     0.66124,     0.66183,     0.66249,     0.66432,     0.66479,     0.66531,      0.6661,     0.66625,     0.66702,\n",
       "            0.66814,     0.66898,     0.67079,     0.67124,      0.6716,     0.67255,     0.67385,     0.67426,     0.67571,     0.67604,     0.67666,     0.67723,     0.67735,     0.67806,     0.67828,     0.67901,     0.68007,     0.68104,     0.68082,     0.68156,     0.68172,     0.68212,     0.68306,\n",
       "            0.68439,     0.68518,     0.68565,     0.68643,     0.68673,     0.68798,     0.68866,     0.68896,     0.68931,     0.68996,     0.68967,     0.69069,     0.69162,     0.69232,     0.69283,     0.69392,     0.69531,     0.69549,     0.69573,     0.69645,     0.69671,     0.69729,     0.69755,\n",
       "            0.69775,     0.69737,     0.69784,     0.69796,     0.69856,     0.69887,     0.69915,     0.69951,     0.70102,     0.70203,     0.70433,     0.70517,     0.70565,     0.70615,     0.70674,     0.70768,     0.70867,     0.71039,     0.71085,     0.71115,     0.71195,     0.71326,     0.71347,\n",
       "            0.71273,     0.71338,     0.71356,     0.71385,     0.71404,      0.7144,     0.71557,     0.71689,      0.7173,     0.71924,      0.7201,     0.72135,     0.72242,     0.72268,     0.72368,     0.72394,     0.72463,     0.72476,     0.72489,     0.72573,      0.7261,     0.72639,     0.72676,\n",
       "            0.72816,     0.72876,     0.72951,     0.73098,     0.73166,     0.73224,     0.73248,     0.73358,     0.73423,     0.73482,     0.73532,     0.73563,     0.73632,     0.73779,     0.73828,     0.73859,      0.7391,      0.7397,     0.74026,      0.7404,     0.74101,     0.74127,     0.74175,\n",
       "            0.74239,      0.7427,     0.74318,     0.74303,     0.74328,      0.7442,     0.74516,     0.74544,     0.74646,     0.74825,     0.74911,     0.74959,     0.75002,     0.75032,     0.75022,     0.75012,     0.75041,     0.75145,     0.75178,      0.7522,     0.75274,     0.75301,     0.75324,\n",
       "            0.75469,     0.75515,     0.75546,     0.75566,       0.756,     0.75669,     0.75779,     0.75803,     0.75817,     0.75828,     0.75839,     0.75906,     0.75943,      0.7601,     0.76083,     0.76113,     0.76154,     0.76192,     0.76241,     0.76293,     0.76329,     0.76356,     0.76398,\n",
       "            0.76435,     0.76456,     0.76439,     0.76491,     0.76507,     0.76539,     0.76655,     0.76704,     0.76767,     0.76747,     0.76835,     0.76983,     0.77015,     0.77128,     0.77202,     0.77222,     0.77236,     0.77251,     0.77367,     0.77413,     0.77346,     0.77419,     0.77479,\n",
       "            0.77494,      0.7752,     0.77585,     0.77607,     0.77685,     0.77707,     0.77776,     0.77879,     0.77937,     0.77866,     0.77888,     0.77906,     0.77921,     0.77975,     0.78051,     0.78052,     0.78119,     0.78161,     0.78208,      0.7824,     0.78294,     0.78373,     0.78426,\n",
       "            0.78448,     0.78453,     0.78357,     0.78417,     0.78345,     0.78303,     0.78343,     0.78381,     0.78362,     0.78486,     0.78519,     0.78542,     0.78563,     0.78504,     0.78474,     0.78487,     0.78463,     0.78469,     0.78525,     0.78495,     0.78536,     0.78488,     0.78569,\n",
       "            0.78608,     0.78589,     0.78615,     0.78707,     0.78727,     0.78771,      0.7885,     0.78868,     0.78929,     0.78975,     0.79025,     0.79071,     0.79124,     0.79152,     0.79174,     0.79194,     0.79321,     0.79352,     0.79394,      0.7951,      0.7959,      0.7963,      0.7962,\n",
       "            0.79661,     0.79702,     0.79802,     0.79842,     0.79906,     0.79924,     0.79943,      0.7997,     0.80006,     0.80045,     0.80023,         0.8,      0.8004,     0.80064,     0.80086,     0.80107,     0.80163,     0.80172,      0.8018,     0.80189,     0.80198,     0.80299,     0.80481,\n",
       "            0.80424,     0.80445,     0.80527,      0.8051,     0.80579,     0.80564,     0.80548,     0.80533,     0.80544,     0.80485,     0.80435,     0.80453,     0.80412,     0.80481,     0.80523,     0.80565,     0.80631,       0.807,     0.80737,     0.80758,     0.80785,     0.80807,     0.80891,\n",
       "             0.8098,     0.81014,     0.81035,     0.81052,     0.81066,      0.8108,      0.8111,     0.81089,     0.81068,     0.81058,     0.81073,     0.81134,     0.81218,     0.81242,     0.81263,     0.81102,     0.81064,     0.81086,     0.81055,     0.81013,     0.81023,     0.81047,     0.81038,\n",
       "            0.81045,     0.81012,     0.81033,     0.81051,     0.81179,     0.81222,     0.81308,     0.81262,     0.81273,     0.81284,     0.81295,     0.81236,     0.81297,     0.81319,     0.81404,     0.81419,     0.81434,     0.81453,     0.81478,       0.815,     0.81531,     0.81565,     0.81587,\n",
       "             0.8167,     0.81681,     0.81692,     0.81704,     0.81721,     0.81743,      0.8178,     0.81852,     0.81874,     0.81835,     0.81894,     0.81939,     0.82027,     0.82071,     0.82097,      0.8212,     0.82162,     0.82186,     0.82208,     0.82296,       0.823,      0.8232,     0.82288,\n",
       "             0.8235,     0.82329,     0.82344,      0.8236,      0.8238,     0.82358,      0.8238,     0.82409,     0.82454,     0.82436,     0.82382,     0.82317,     0.82253,     0.82267,      0.8229,     0.82323,     0.82252,     0.82179,     0.82184,     0.82151,     0.82099,     0.82131,     0.82154,\n",
       "            0.82177,       0.822,     0.82222,     0.82245,     0.82285,     0.82335,     0.82359,     0.82293,     0.82257,     0.82303,     0.82394,     0.82485,     0.82278,     0.82298,     0.82366,     0.82454,     0.82388,     0.82325,     0.82303,     0.82281,     0.82266,     0.82289,     0.82317,\n",
       "            0.82338,       0.823,     0.82347,     0.82393,     0.82432,     0.82455,     0.82487,      0.8258,     0.82718,     0.82765,     0.82773,      0.8274,     0.82749,     0.82603,     0.82602,      0.8263,     0.82568,     0.82546,     0.82523,     0.82465,     0.82388,     0.82354,     0.82294,\n",
       "            0.82254,      0.8222,     0.82255,     0.82302,     0.82395,      0.8235,     0.82283,      0.8227,     0.82352,     0.82375,     0.82393,     0.82404,     0.82416,     0.82428,     0.82463,      0.8247,     0.82456,     0.82443,     0.82429,     0.82415,      0.8245,     0.82337,     0.82269,\n",
       "            0.82201,     0.82132,     0.82064,     0.82178,     0.82155,     0.82132,     0.82116,     0.82101,     0.82012,     0.82017,     0.81994,     0.81971,     0.81917,     0.81848,     0.81779,     0.81667,     0.81633,     0.81596,     0.81691,     0.81739,     0.81787,     0.81713,     0.81737,\n",
       "            0.81772,      0.8182,     0.81869,     0.81917,     0.81966,     0.82061,     0.82039,     0.82004,     0.82013,     0.81958,     0.81819,      0.8168,      0.8155,     0.81515,     0.81399,     0.81328,     0.81305,     0.81279,     0.81279,     0.81331,     0.81139,     0.81104,     0.81011,\n",
       "            0.80987,     0.80963,     0.80935,      0.8095,     0.80758,     0.80709,     0.80673,     0.80612,     0.80539,     0.80448,     0.80411,     0.80369,     0.80333,     0.80256,     0.80258,     0.80185,     0.80128,     0.79979,     0.79761,     0.79724,     0.79687,      0.7965,     0.79635,\n",
       "            0.79586,     0.79598,     0.79695,     0.79734,     0.79697,     0.79717,      0.7957,     0.79506,     0.79444,     0.79427,     0.79379,      0.7923,     0.79203,     0.79154,     0.79155,     0.79117,     0.79123,      0.7912,     0.79071,     0.79052,     0.79034,     0.79015,     0.79015,\n",
       "             0.7908,     0.79158,     0.79177,     0.79147,     0.79045,     0.78957,     0.78927,     0.78896,     0.78751,     0.78648,      0.7837,     0.78278,     0.78302,     0.78135,     0.77906,     0.77676,      0.7759,     0.77481,      0.7735,     0.77311,     0.77013,     0.77049,      0.7705,\n",
       "            0.76838,     0.76816,     0.76793,     0.76609,     0.76569,     0.76406,     0.76209,     0.76129,      0.7599,     0.75976,     0.75777,     0.75665,     0.75675,     0.75552,     0.75511,     0.75245,     0.75024,     0.75001,     0.74894,     0.74907,     0.74736,     0.74628,     0.74573,\n",
       "            0.74413,     0.74296,     0.74172,     0.74102,     0.73847,     0.73762,     0.73568,     0.73483,     0.73277,     0.73297,     0.73317,     0.73273,      0.7315,     0.73093,     0.73024,     0.72915,     0.72851,     0.72742,     0.72636,     0.72508,     0.72431,     0.72373,     0.72205,\n",
       "            0.72209,     0.71914,     0.71821,     0.71691,     0.71561,     0.71502,     0.71452,     0.71408,     0.71208,     0.71107,     0.70881,      0.7073,     0.70669,     0.70468,     0.70138,     0.69955,     0.69846,     0.69446,     0.69322,     0.69219,     0.69039,     0.68975,     0.68541,\n",
       "            0.68404,     0.68266,     0.68129,       0.679,     0.67707,     0.67167,     0.67104,     0.67021,     0.66763,     0.66672,     0.66233,     0.66169,     0.66081,      0.6575,     0.65433,     0.65176,     0.64996,     0.64931,     0.64458,     0.64258,      0.6387,     0.63771,     0.63705,\n",
       "            0.63174,     0.63032,      0.6287,     0.62829,     0.62664,     0.62431,     0.62259,     0.62154,     0.62086,     0.62018,     0.61933,     0.61765,     0.61073,     0.60682,     0.60148,     0.59925,     0.59771,     0.59404,     0.58932,     0.58767,     0.58659,     0.58332,      0.5797,\n",
       "            0.57624,      0.5753,       0.574,     0.57117,     0.56977,     0.56612,     0.56557,     0.56232,     0.55573,     0.55278,     0.55012,     0.54563,     0.53954,     0.53878,     0.53652,      0.5331,     0.52963,     0.52387,     0.51691,     0.51609,     0.51562,     0.51396,     0.51337,\n",
       "            0.51239,     0.50853,     0.50054,     0.49336,     0.49238,     0.49177,     0.48598,     0.48338,     0.47493,     0.47274,     0.47113,      0.4649,     0.45927,     0.45611,     0.45474,     0.45228,     0.44719,     0.44462,     0.44182,     0.43148,     0.42622,     0.42398,     0.42308,\n",
       "            0.41817,     0.41458,     0.41144,     0.40337,     0.39657,     0.38971,     0.38479,     0.38136,     0.37576,     0.36342,     0.35911,     0.35335,     0.34755,     0.34188,     0.34019,     0.33283,     0.32689,      0.3209,     0.31747,     0.31029,      0.3016,     0.29956,      0.2949,\n",
       "            0.28868,      0.2869,     0.28532,     0.28218,     0.27751,     0.27325,     0.26793,     0.26162,     0.26053,     0.25912,     0.24946,      0.2478,     0.24343,     0.23683,     0.23347,     0.22845,      0.2184,      0.2089,     0.20775,     0.19615,     0.18746,     0.18218,     0.18021,\n",
       "            0.16621,     0.16257,     0.15892,      0.1577,     0.14978,     0.14427,     0.13872,      0.1352,     0.12938,     0.12417,      0.1229,     0.11933,      0.1104,     0.10543,     0.10446,     0.10339,     0.10209,    0.096435,    0.090844,    0.085791,     0.08101,    0.077948,     0.07303,\n",
       "           0.068079,    0.066063,    0.062912,    0.058453,    0.051159,    0.050134,    0.048587,    0.047022,    0.046647,    0.046273,    0.045899,    0.045524,    0.040584,    0.038511,    0.036433,    0.032315,      0.0308,    0.030102,    0.029404,    0.028706,    0.028007,    0.027307,    0.024905,\n",
       "           0.024303,    0.023702,    0.023099,    0.021968,    0.020775,    0.020473,    0.020171,    0.019869,    0.019566,    0.019264,    0.018962,    0.018629,    0.018244,    0.017859,    0.017473,    0.017088,    0.016702,    0.014529,    0.012267,    0.011734,    0.011201,    0.010667,     0.00823,\n",
       "          0.0071594,   0.0062126,   0.0057836,   0.0053544,    0.004925,   0.0044954,   0.0037483,    0.002314,           0,           0,           0,           0,           0,           0,           0,           0,           0,           0,           0,           0,           0,           0,           0,\n",
       "                  0,           0,           0,           0,           0,           0,           0,           0,           0,           0,           0]]), 'Confidence', 'F1'], [array([          0,    0.001001,    0.002002,    0.003003,    0.004004,    0.005005,    0.006006,    0.007007,    0.008008,    0.009009,     0.01001,    0.011011,    0.012012,    0.013013,    0.014014,    0.015015,    0.016016,    0.017017,    0.018018,    0.019019,     0.02002,    0.021021,    0.022022,    0.023023,\n",
       "          0.024024,    0.025025,    0.026026,    0.027027,    0.028028,    0.029029,     0.03003,    0.031031,    0.032032,    0.033033,    0.034034,    0.035035,    0.036036,    0.037037,    0.038038,    0.039039,     0.04004,    0.041041,    0.042042,    0.043043,    0.044044,    0.045045,    0.046046,    0.047047,\n",
       "          0.048048,    0.049049,     0.05005,    0.051051,    0.052052,    0.053053,    0.054054,    0.055055,    0.056056,    0.057057,    0.058058,    0.059059,     0.06006,    0.061061,    0.062062,    0.063063,    0.064064,    0.065065,    0.066066,    0.067067,    0.068068,    0.069069,     0.07007,    0.071071,\n",
       "          0.072072,    0.073073,    0.074074,    0.075075,    0.076076,    0.077077,    0.078078,    0.079079,     0.08008,    0.081081,    0.082082,    0.083083,    0.084084,    0.085085,    0.086086,    0.087087,    0.088088,    0.089089,     0.09009,    0.091091,    0.092092,    0.093093,    0.094094,    0.095095,\n",
       "          0.096096,    0.097097,    0.098098,    0.099099,      0.1001,      0.1011,      0.1021,      0.1031,      0.1041,     0.10511,     0.10611,     0.10711,     0.10811,     0.10911,     0.11011,     0.11111,     0.11211,     0.11311,     0.11411,     0.11512,     0.11612,     0.11712,     0.11812,     0.11912,\n",
       "           0.12012,     0.12112,     0.12212,     0.12312,     0.12412,     0.12513,     0.12613,     0.12713,     0.12813,     0.12913,     0.13013,     0.13113,     0.13213,     0.13313,     0.13413,     0.13514,     0.13614,     0.13714,     0.13814,     0.13914,     0.14014,     0.14114,     0.14214,     0.14314,\n",
       "           0.14414,     0.14515,     0.14615,     0.14715,     0.14815,     0.14915,     0.15015,     0.15115,     0.15215,     0.15315,     0.15415,     0.15516,     0.15616,     0.15716,     0.15816,     0.15916,     0.16016,     0.16116,     0.16216,     0.16316,     0.16416,     0.16517,     0.16617,     0.16717,\n",
       "           0.16817,     0.16917,     0.17017,     0.17117,     0.17217,     0.17317,     0.17417,     0.17518,     0.17618,     0.17718,     0.17818,     0.17918,     0.18018,     0.18118,     0.18218,     0.18318,     0.18418,     0.18519,     0.18619,     0.18719,     0.18819,     0.18919,     0.19019,     0.19119,\n",
       "           0.19219,     0.19319,     0.19419,      0.1952,      0.1962,      0.1972,      0.1982,      0.1992,      0.2002,      0.2012,      0.2022,      0.2032,      0.2042,     0.20521,     0.20621,     0.20721,     0.20821,     0.20921,     0.21021,     0.21121,     0.21221,     0.21321,     0.21421,     0.21522,\n",
       "           0.21622,     0.21722,     0.21822,     0.21922,     0.22022,     0.22122,     0.22222,     0.22322,     0.22422,     0.22523,     0.22623,     0.22723,     0.22823,     0.22923,     0.23023,     0.23123,     0.23223,     0.23323,     0.23423,     0.23524,     0.23624,     0.23724,     0.23824,     0.23924,\n",
       "           0.24024,     0.24124,     0.24224,     0.24324,     0.24424,     0.24525,     0.24625,     0.24725,     0.24825,     0.24925,     0.25025,     0.25125,     0.25225,     0.25325,     0.25425,     0.25526,     0.25626,     0.25726,     0.25826,     0.25926,     0.26026,     0.26126,     0.26226,     0.26326,\n",
       "           0.26426,     0.26527,     0.26627,     0.26727,     0.26827,     0.26927,     0.27027,     0.27127,     0.27227,     0.27327,     0.27427,     0.27528,     0.27628,     0.27728,     0.27828,     0.27928,     0.28028,     0.28128,     0.28228,     0.28328,     0.28428,     0.28529,     0.28629,     0.28729,\n",
       "           0.28829,     0.28929,     0.29029,     0.29129,     0.29229,     0.29329,     0.29429,      0.2953,      0.2963,      0.2973,      0.2983,      0.2993,      0.3003,      0.3013,      0.3023,      0.3033,      0.3043,     0.30531,     0.30631,     0.30731,     0.30831,     0.30931,     0.31031,     0.31131,\n",
       "           0.31231,     0.31331,     0.31431,     0.31532,     0.31632,     0.31732,     0.31832,     0.31932,     0.32032,     0.32132,     0.32232,     0.32332,     0.32432,     0.32533,     0.32633,     0.32733,     0.32833,     0.32933,     0.33033,     0.33133,     0.33233,     0.33333,     0.33433,     0.33534,\n",
       "           0.33634,     0.33734,     0.33834,     0.33934,     0.34034,     0.34134,     0.34234,     0.34334,     0.34434,     0.34535,     0.34635,     0.34735,     0.34835,     0.34935,     0.35035,     0.35135,     0.35235,     0.35335,     0.35435,     0.35536,     0.35636,     0.35736,     0.35836,     0.35936,\n",
       "           0.36036,     0.36136,     0.36236,     0.36336,     0.36436,     0.36537,     0.36637,     0.36737,     0.36837,     0.36937,     0.37037,     0.37137,     0.37237,     0.37337,     0.37437,     0.37538,     0.37638,     0.37738,     0.37838,     0.37938,     0.38038,     0.38138,     0.38238,     0.38338,\n",
       "           0.38438,     0.38539,     0.38639,     0.38739,     0.38839,     0.38939,     0.39039,     0.39139,     0.39239,     0.39339,     0.39439,      0.3954,      0.3964,      0.3974,      0.3984,      0.3994,      0.4004,      0.4014,      0.4024,      0.4034,      0.4044,     0.40541,     0.40641,     0.40741,\n",
       "           0.40841,     0.40941,     0.41041,     0.41141,     0.41241,     0.41341,     0.41441,     0.41542,     0.41642,     0.41742,     0.41842,     0.41942,     0.42042,     0.42142,     0.42242,     0.42342,     0.42442,     0.42543,     0.42643,     0.42743,     0.42843,     0.42943,     0.43043,     0.43143,\n",
       "           0.43243,     0.43343,     0.43443,     0.43544,     0.43644,     0.43744,     0.43844,     0.43944,     0.44044,     0.44144,     0.44244,     0.44344,     0.44444,     0.44545,     0.44645,     0.44745,     0.44845,     0.44945,     0.45045,     0.45145,     0.45245,     0.45345,     0.45445,     0.45546,\n",
       "           0.45646,     0.45746,     0.45846,     0.45946,     0.46046,     0.46146,     0.46246,     0.46346,     0.46446,     0.46547,     0.46647,     0.46747,     0.46847,     0.46947,     0.47047,     0.47147,     0.47247,     0.47347,     0.47447,     0.47548,     0.47648,     0.47748,     0.47848,     0.47948,\n",
       "           0.48048,     0.48148,     0.48248,     0.48348,     0.48448,     0.48549,     0.48649,     0.48749,     0.48849,     0.48949,     0.49049,     0.49149,     0.49249,     0.49349,     0.49449,      0.4955,      0.4965,      0.4975,      0.4985,      0.4995,      0.5005,      0.5015,      0.5025,      0.5035,\n",
       "            0.5045,     0.50551,     0.50651,     0.50751,     0.50851,     0.50951,     0.51051,     0.51151,     0.51251,     0.51351,     0.51451,     0.51552,     0.51652,     0.51752,     0.51852,     0.51952,     0.52052,     0.52152,     0.52252,     0.52352,     0.52452,     0.52553,     0.52653,     0.52753,\n",
       "           0.52853,     0.52953,     0.53053,     0.53153,     0.53253,     0.53353,     0.53453,     0.53554,     0.53654,     0.53754,     0.53854,     0.53954,     0.54054,     0.54154,     0.54254,     0.54354,     0.54454,     0.54555,     0.54655,     0.54755,     0.54855,     0.54955,     0.55055,     0.55155,\n",
       "           0.55255,     0.55355,     0.55455,     0.55556,     0.55656,     0.55756,     0.55856,     0.55956,     0.56056,     0.56156,     0.56256,     0.56356,     0.56456,     0.56557,     0.56657,     0.56757,     0.56857,     0.56957,     0.57057,     0.57157,     0.57257,     0.57357,     0.57457,     0.57558,\n",
       "           0.57658,     0.57758,     0.57858,     0.57958,     0.58058,     0.58158,     0.58258,     0.58358,     0.58458,     0.58559,     0.58659,     0.58759,     0.58859,     0.58959,     0.59059,     0.59159,     0.59259,     0.59359,     0.59459,      0.5956,      0.5966,      0.5976,      0.5986,      0.5996,\n",
       "            0.6006,      0.6016,      0.6026,      0.6036,      0.6046,     0.60561,     0.60661,     0.60761,     0.60861,     0.60961,     0.61061,     0.61161,     0.61261,     0.61361,     0.61461,     0.61562,     0.61662,     0.61762,     0.61862,     0.61962,     0.62062,     0.62162,     0.62262,     0.62362,\n",
       "           0.62462,     0.62563,     0.62663,     0.62763,     0.62863,     0.62963,     0.63063,     0.63163,     0.63263,     0.63363,     0.63463,     0.63564,     0.63664,     0.63764,     0.63864,     0.63964,     0.64064,     0.64164,     0.64264,     0.64364,     0.64464,     0.64565,     0.64665,     0.64765,\n",
       "           0.64865,     0.64965,     0.65065,     0.65165,     0.65265,     0.65365,     0.65465,     0.65566,     0.65666,     0.65766,     0.65866,     0.65966,     0.66066,     0.66166,     0.66266,     0.66366,     0.66466,     0.66567,     0.66667,     0.66767,     0.66867,     0.66967,     0.67067,     0.67167,\n",
       "           0.67267,     0.67367,     0.67467,     0.67568,     0.67668,     0.67768,     0.67868,     0.67968,     0.68068,     0.68168,     0.68268,     0.68368,     0.68468,     0.68569,     0.68669,     0.68769,     0.68869,     0.68969,     0.69069,     0.69169,     0.69269,     0.69369,     0.69469,      0.6957,\n",
       "            0.6967,      0.6977,      0.6987,      0.6997,      0.7007,      0.7017,      0.7027,      0.7037,      0.7047,     0.70571,     0.70671,     0.70771,     0.70871,     0.70971,     0.71071,     0.71171,     0.71271,     0.71371,     0.71471,     0.71572,     0.71672,     0.71772,     0.71872,     0.71972,\n",
       "           0.72072,     0.72172,     0.72272,     0.72372,     0.72472,     0.72573,     0.72673,     0.72773,     0.72873,     0.72973,     0.73073,     0.73173,     0.73273,     0.73373,     0.73473,     0.73574,     0.73674,     0.73774,     0.73874,     0.73974,     0.74074,     0.74174,     0.74274,     0.74374,\n",
       "           0.74474,     0.74575,     0.74675,     0.74775,     0.74875,     0.74975,     0.75075,     0.75175,     0.75275,     0.75375,     0.75475,     0.75576,     0.75676,     0.75776,     0.75876,     0.75976,     0.76076,     0.76176,     0.76276,     0.76376,     0.76476,     0.76577,     0.76677,     0.76777,\n",
       "           0.76877,     0.76977,     0.77077,     0.77177,     0.77277,     0.77377,     0.77477,     0.77578,     0.77678,     0.77778,     0.77878,     0.77978,     0.78078,     0.78178,     0.78278,     0.78378,     0.78478,     0.78579,     0.78679,     0.78779,     0.78879,     0.78979,     0.79079,     0.79179,\n",
       "           0.79279,     0.79379,     0.79479,      0.7958,      0.7968,      0.7978,      0.7988,      0.7998,      0.8008,      0.8018,      0.8028,      0.8038,      0.8048,     0.80581,     0.80681,     0.80781,     0.80881,     0.80981,     0.81081,     0.81181,     0.81281,     0.81381,     0.81481,     0.81582,\n",
       "           0.81682,     0.81782,     0.81882,     0.81982,     0.82082,     0.82182,     0.82282,     0.82382,     0.82482,     0.82583,     0.82683,     0.82783,     0.82883,     0.82983,     0.83083,     0.83183,     0.83283,     0.83383,     0.83483,     0.83584,     0.83684,     0.83784,     0.83884,     0.83984,\n",
       "           0.84084,     0.84184,     0.84284,     0.84384,     0.84484,     0.84585,     0.84685,     0.84785,     0.84885,     0.84985,     0.85085,     0.85185,     0.85285,     0.85385,     0.85485,     0.85586,     0.85686,     0.85786,     0.85886,     0.85986,     0.86086,     0.86186,     0.86286,     0.86386,\n",
       "           0.86486,     0.86587,     0.86687,     0.86787,     0.86887,     0.86987,     0.87087,     0.87187,     0.87287,     0.87387,     0.87487,     0.87588,     0.87688,     0.87788,     0.87888,     0.87988,     0.88088,     0.88188,     0.88288,     0.88388,     0.88488,     0.88589,     0.88689,     0.88789,\n",
       "           0.88889,     0.88989,     0.89089,     0.89189,     0.89289,     0.89389,     0.89489,      0.8959,      0.8969,      0.8979,      0.8989,      0.8999,      0.9009,      0.9019,      0.9029,      0.9039,      0.9049,     0.90591,     0.90691,     0.90791,     0.90891,     0.90991,     0.91091,     0.91191,\n",
       "           0.91291,     0.91391,     0.91491,     0.91592,     0.91692,     0.91792,     0.91892,     0.91992,     0.92092,     0.92192,     0.92292,     0.92392,     0.92492,     0.92593,     0.92693,     0.92793,     0.92893,     0.92993,     0.93093,     0.93193,     0.93293,     0.93393,     0.93493,     0.93594,\n",
       "           0.93694,     0.93794,     0.93894,     0.93994,     0.94094,     0.94194,     0.94294,     0.94394,     0.94494,     0.94595,     0.94695,     0.94795,     0.94895,     0.94995,     0.95095,     0.95195,     0.95295,     0.95395,     0.95495,     0.95596,     0.95696,     0.95796,     0.95896,     0.95996,\n",
       "           0.96096,     0.96196,     0.96296,     0.96396,     0.96496,     0.96597,     0.96697,     0.96797,     0.96897,     0.96997,     0.97097,     0.97197,     0.97297,     0.97397,     0.97497,     0.97598,     0.97698,     0.97798,     0.97898,     0.97998,     0.98098,     0.98198,     0.98298,     0.98398,\n",
       "           0.98498,     0.98599,     0.98699,     0.98799,     0.98899,     0.98999,     0.99099,     0.99199,     0.99299,     0.99399,     0.99499,       0.996,       0.997,       0.998,       0.999,           1]), array([[    0.10027,     0.10027,     0.13931,      0.1676,      0.1907,     0.21049,     0.22642,     0.24118,      0.2538,      0.2657,     0.27806,     0.28782,     0.29521,     0.30407,     0.31172,     0.31735,     0.32594,      0.3305,     0.33648,     0.34089,     0.34606,     0.34975,      0.3542,\n",
       "            0.35865,     0.36323,     0.36693,     0.37117,     0.37405,     0.37785,     0.38222,     0.38581,     0.38756,     0.38977,     0.39181,     0.39469,     0.39771,     0.39953,     0.40114,     0.40357,     0.40558,     0.40954,     0.41144,     0.41398,     0.41759,     0.41978,      0.4232,\n",
       "            0.42548,     0.42755,     0.42897,     0.43195,     0.43351,     0.43633,     0.43858,     0.44008,     0.44175,     0.44394,     0.44474,     0.44586,     0.44788,     0.45054,     0.45095,     0.45367,     0.45459,     0.45534,     0.45648,     0.45807,     0.46037,     0.46234,     0.46506,\n",
       "            0.46689,     0.46747,     0.46882,     0.47007,     0.47081,     0.47344,     0.47472,     0.47621,     0.47928,     0.48104,     0.48243,     0.48386,     0.48474,     0.48645,     0.48911,      0.4899,     0.49089,     0.49185,     0.49284,     0.49388,      0.4951,     0.49661,     0.49757,\n",
       "            0.49892,     0.50036,     0.50212,     0.50366,     0.50511,     0.50625,     0.50858,     0.51003,     0.51306,     0.51394,     0.51555,     0.51687,     0.51895,     0.51956,     0.52084,     0.52157,      0.5224,     0.52467,     0.52526,     0.52591,     0.52711,     0.52745,     0.52877,\n",
       "            0.53018,     0.53124,     0.53353,     0.53409,     0.53454,     0.53575,     0.53741,     0.53793,     0.53978,      0.5402,     0.54099,     0.54172,     0.54215,     0.54355,     0.54383,     0.54476,     0.54613,     0.54739,     0.54749,     0.54845,     0.54866,     0.54917,     0.55039,\n",
       "            0.55211,     0.55315,     0.55376,     0.55478,     0.55517,     0.55681,      0.5577,      0.5581,     0.55937,     0.56023,     0.56066,     0.56201,     0.56325,     0.56418,     0.56527,     0.56673,     0.56859,     0.56883,     0.56914,     0.57011,     0.57045,     0.57123,     0.57201,\n",
       "            0.57287,      0.5729,     0.57432,     0.57475,     0.57566,     0.57642,      0.5768,     0.57729,     0.57936,     0.58074,     0.58389,     0.58505,     0.58571,      0.5864,     0.58721,     0.58852,     0.58988,     0.59227,     0.59291,     0.59333,     0.59444,     0.59627,     0.59656,\n",
       "            0.59646,     0.59739,     0.59764,     0.59806,      0.5988,      0.5993,     0.60095,     0.60281,      0.6034,     0.60615,     0.60787,     0.60999,     0.61169,     0.61206,      0.6135,     0.61387,     0.61487,     0.61505,     0.61524,     0.61645,     0.61698,      0.6174,     0.61794,\n",
       "            0.61996,     0.62084,     0.62192,     0.62406,     0.62506,      0.6259,     0.62625,     0.62786,     0.62882,     0.62968,     0.63042,     0.63088,     0.63188,     0.63405,     0.63478,     0.63594,     0.63709,     0.63798,     0.63883,     0.63959,     0.64049,     0.64088,      0.6416,\n",
       "            0.64256,     0.64302,     0.64375,     0.64409,     0.64446,     0.64585,      0.6473,     0.64771,     0.64925,     0.65197,     0.65327,     0.65401,     0.65466,     0.65513,     0.65544,     0.65575,     0.65643,     0.65802,     0.65853,     0.65917,     0.66001,     0.66042,     0.66077,\n",
       "            0.66301,     0.66373,      0.6642,     0.66451,     0.66503,      0.6661,     0.66782,     0.66819,      0.6684,     0.66857,     0.66874,     0.66978,     0.67036,     0.67141,     0.67255,     0.67365,     0.67429,     0.67488,     0.67564,     0.67647,     0.67703,     0.67771,     0.67876,\n",
       "            0.67934,     0.67967,     0.68003,     0.68087,     0.68112,     0.68162,     0.68347,     0.68424,     0.68525,     0.68547,     0.68698,     0.68935,     0.68987,     0.69169,     0.69288,     0.69386,      0.6941,     0.69434,     0.69621,      0.6972,     0.69691,      0.6984,     0.69938,\n",
       "            0.69962,     0.70005,     0.70112,     0.70147,     0.70275,      0.7031,     0.70423,     0.70592,     0.70689,     0.70712,     0.70747,     0.70778,     0.70803,     0.70891,     0.71016,      0.7109,       0.712,     0.71271,     0.71349,     0.71402,     0.71493,     0.71624,     0.71785,\n",
       "            0.71822,     0.71923,     0.71887,     0.72003,     0.71972,     0.72019,     0.72087,     0.72225,     0.72267,     0.72478,     0.72536,     0.72574,     0.72644,     0.72619,     0.72606,     0.72661,     0.72651,     0.72677,     0.72776,     0.72798,      0.7287,     0.72864,     0.73004,\n",
       "             0.7311,     0.73116,     0.73161,     0.73321,     0.73355,     0.73432,     0.73569,      0.7368,     0.73787,     0.73868,     0.73954,     0.74034,     0.74127,     0.74177,     0.74217,     0.74331,     0.74557,     0.74661,     0.74768,     0.74973,     0.75115,     0.75187,     0.75252,\n",
       "            0.75325,     0.75398,     0.75578,     0.75649,     0.75765,     0.75797,     0.75831,      0.7588,     0.75945,     0.76036,     0.76028,     0.76019,     0.76091,     0.76134,     0.76175,     0.76212,     0.76314,     0.76329,     0.76345,     0.76361,     0.76377,     0.76561,     0.76893,\n",
       "            0.76877,     0.77002,     0.77152,     0.77209,     0.77345,      0.7734,     0.77334,     0.77329,     0.77362,     0.77432,     0.77414,     0.77481,     0.77466,     0.77604,     0.77682,      0.7776,     0.77884,     0.78012,     0.78082,     0.78121,     0.78172,     0.78306,     0.78463,\n",
       "             0.7863,     0.78695,     0.78735,     0.78767,     0.78793,      0.7882,       0.789,     0.78893,     0.78886,     0.78966,     0.78995,     0.79111,     0.79271,     0.79412,     0.79473,     0.79434,     0.79555,     0.79612,     0.79601,     0.79587,     0.79671,     0.79718,     0.79864,\n",
       "            0.79913,     0.79947,     0.79989,     0.80124,     0.80374,      0.8046,     0.80628,      0.8064,     0.80661,     0.80683,     0.80704,     0.80686,     0.80811,     0.80854,     0.81023,     0.81052,     0.81081,     0.81119,     0.81273,     0.81317,     0.81379,     0.81447,     0.81491,\n",
       "            0.81762,     0.81784,     0.81806,     0.81828,     0.81864,     0.81908,     0.81981,     0.82127,     0.82172,     0.82171,      0.8232,     0.82409,     0.82587,     0.82678,      0.8273,     0.82776,     0.82862,     0.82911,     0.82957,     0.83135,     0.83253,     0.83297,     0.83288,\n",
       "            0.83467,     0.83535,     0.83566,     0.83597,      0.8364,     0.83705,     0.83752,     0.83811,     0.83904,     0.83981,      0.8402,     0.84002,     0.83984,     0.84085,     0.84132,     0.84201,     0.84225,     0.84247,     0.84287,     0.84278,     0.84312,     0.84379,     0.84427,\n",
       "            0.84476,     0.84524,     0.84572,      0.8462,     0.84704,     0.84903,     0.85076,     0.85059,     0.85122,      0.8522,     0.85415,     0.85611,      0.8565,     0.85697,     0.85846,     0.86041,     0.86024,     0.86009,     0.86003,     0.85998,     0.86001,     0.86052,     0.86113,\n",
       "            0.86187,     0.86201,     0.86303,     0.86405,     0.86491,     0.86542,     0.86613,     0.86817,     0.87122,     0.87227,     0.87278,      0.8727,     0.87321,      0.8733,     0.87384,     0.87578,       0.876,     0.87595,      0.8759,     0.87737,     0.87747,      0.8774,     0.87727,\n",
       "            0.87718,      0.8771,     0.87799,     0.87907,      0.8812,     0.88215,       0.882,     0.88245,     0.88433,     0.88488,     0.88528,     0.88555,     0.88583,      0.8861,     0.88691,     0.88725,     0.88723,      0.8872,     0.88717,     0.88714,     0.88801,     0.88796,     0.88782,\n",
       "            0.88768,     0.88754,      0.8874,     0.89062,     0.89057,     0.89053,     0.89158,     0.89349,     0.89433,     0.89537,     0.89532,     0.89528,     0.89517,     0.89504,      0.8949,     0.89469,     0.89462,     0.89539,     0.89768,     0.89884,         0.9,     0.90125,     0.90184,\n",
       "            0.90269,     0.90387,     0.90505,     0.90624,     0.90742,     0.90978,     0.91128,     0.91122,     0.91172,     0.91224,     0.91201,     0.91178,     0.91156,      0.9115,     0.91131,     0.91119,     0.91226,     0.91266,     0.91427,     0.91561,      0.9165,     0.91645,     0.91744,\n",
       "            0.91741,     0.91737,     0.91732,     0.91965,     0.92052,     0.92045,     0.92039,      0.9203,     0.92019,     0.92241,     0.92235,     0.92348,     0.92343,     0.92375,     0.92451,     0.92441,     0.92553,     0.92531,       0.925,     0.92495,     0.92489,     0.92484,     0.92727,\n",
       "             0.9272,       0.928,     0.93065,     0.93236,     0.93231,     0.93359,      0.9334,     0.93495,     0.93578,     0.93663,     0.93697,     0.93679,     0.93805,      0.9388,     0.93929,     0.93924,     0.93992,     0.94055,     0.94049,     0.94047,     0.94045,     0.94043,     0.94086,\n",
       "            0.94273,     0.94492,     0.94549,     0.94719,     0.94843,     0.94969,     0.94966,     0.94963,     0.94949,     0.95075,     0.95048,     0.95071,     0.95144,     0.95303,     0.95281,     0.95259,     0.95251,     0.95241,     0.95228,     0.95225,     0.95262,     0.95374,     0.95486,\n",
       "            0.95467,     0.95465,     0.95463,     0.95446,     0.95443,     0.95427,     0.95556,     0.95549,     0.95606,     0.95684,     0.95666,     0.95806,     0.96109,     0.96252,     0.96249,     0.96229,     0.96237,     0.96521,     0.96513,     0.96631,      0.9666,     0.96811,     0.96807,\n",
       "            0.96797,      0.9695,     0.96942,       0.971,     0.97084,     0.97079,     0.97398,     0.97393,     0.97385,     0.97455,     0.97525,      0.9755,     0.97543,      0.9754,     0.97654,     0.97701,     0.97698,     0.97693,     0.97688,     0.97681,     0.97678,     0.97675,     0.97667,\n",
       "             0.9784,     0.97827,     0.97822,     0.97816,      0.9781,     0.97807,     0.97805,     0.97803,     0.97794,     0.97789,     0.97957,     0.97951,     0.98129,     0.98121,     0.98108,       0.981,     0.98096,     0.98079,     0.98074,      0.9807,     0.98062,      0.9806,     0.98041,\n",
       "            0.98035,     0.98221,     0.98216,     0.98207,     0.98199,     0.98178,     0.98175,     0.98172,     0.98162,     0.98158,      0.9814,     0.98137,     0.98134,      0.9812,     0.98107,     0.98509,     0.98503,     0.98501,     0.98485,     0.98478,     0.98465,     0.98461,     0.98459,\n",
       "             0.9844,     0.98435,      0.9843,     0.98428,     0.98422,     0.98414,     0.98407,     0.98404,     0.98401,     0.98399,     0.98539,     0.98615,     0.98592,      0.9858,     0.98562,     0.98791,     0.98787,     0.98776,     0.98762,     0.99002,        0.99,     0.98992,     0.98983,\n",
       "            0.99048,     0.99226,     0.99224,     0.99477,     0.99475,     0.99471,      0.9947,     0.99466,     0.99457,     0.99453,     0.99449,     0.99443,     0.99435,     0.99433,      0.9943,     0.99425,      0.9942,     0.99412,     0.99401,     0.99699,     0.99698,     0.99697,     0.99696,\n",
       "            0.99696,     0.99693,     0.99686,      0.9968,     0.99679,     0.99679,     0.99673,     0.99671,     0.99663,     0.99661,      0.9966,     0.99654,     0.99648,     0.99645,     0.99644,     0.99641,     0.99636,     0.99634,     0.99631,     0.99619,     0.99613,     0.99611,      0.9961,\n",
       "            0.99604,     0.99599,     0.99596,     0.99586,     0.99577,     0.99567,     0.99561,     0.99556,     0.99548,           1,           1,           1,           1,           1,           1,           1,           1,           1,           1,           1,           1,           1,           1,\n",
       "                  1,           1,           1,           1,           1,           1,           1,           1,           1,           1,           1,           1,           1,           1,           1,           1,           1,           1,           1,           1,           1,           1,           1,\n",
       "                  1,           1,           1,           1,           1,           1,           1,           1,           1,           1,           1,           1,           1,           1,           1,           1,           1,           1,           1,           1,           1,           1,           1,\n",
       "                  1,           1,           1,           1,           1,           1,           1,           1,           1,           1,           1,           1,           1,           1,           1,           1,           1,           1,           1,           1,           1,           1,           1,\n",
       "                  1,           1,           1,           1,           1,           1,           1,           1,           1,           1,           1,           1,           1,           1,           1,           1,           1,           1,           1,           1,           1,           1,           1,\n",
       "                  1,           1,           1,           1,           1,           1,           1,           1,           1,           1,           1,           1,           1,           1,           1,           1,           1,           1,           1,           1,           1,           1,           1,\n",
       "                  1,           1,           1,           1,           1,           1,           1,           1,           1,           1,           1]]), 'Confidence', 'Precision'], [array([          0,    0.001001,    0.002002,    0.003003,    0.004004,    0.005005,    0.006006,    0.007007,    0.008008,    0.009009,     0.01001,    0.011011,    0.012012,    0.013013,    0.014014,    0.015015,    0.016016,    0.017017,    0.018018,    0.019019,     0.02002,    0.021021,    0.022022,    0.023023,\n",
       "          0.024024,    0.025025,    0.026026,    0.027027,    0.028028,    0.029029,     0.03003,    0.031031,    0.032032,    0.033033,    0.034034,    0.035035,    0.036036,    0.037037,    0.038038,    0.039039,     0.04004,    0.041041,    0.042042,    0.043043,    0.044044,    0.045045,    0.046046,    0.047047,\n",
       "          0.048048,    0.049049,     0.05005,    0.051051,    0.052052,    0.053053,    0.054054,    0.055055,    0.056056,    0.057057,    0.058058,    0.059059,     0.06006,    0.061061,    0.062062,    0.063063,    0.064064,    0.065065,    0.066066,    0.067067,    0.068068,    0.069069,     0.07007,    0.071071,\n",
       "          0.072072,    0.073073,    0.074074,    0.075075,    0.076076,    0.077077,    0.078078,    0.079079,     0.08008,    0.081081,    0.082082,    0.083083,    0.084084,    0.085085,    0.086086,    0.087087,    0.088088,    0.089089,     0.09009,    0.091091,    0.092092,    0.093093,    0.094094,    0.095095,\n",
       "          0.096096,    0.097097,    0.098098,    0.099099,      0.1001,      0.1011,      0.1021,      0.1031,      0.1041,     0.10511,     0.10611,     0.10711,     0.10811,     0.10911,     0.11011,     0.11111,     0.11211,     0.11311,     0.11411,     0.11512,     0.11612,     0.11712,     0.11812,     0.11912,\n",
       "           0.12012,     0.12112,     0.12212,     0.12312,     0.12412,     0.12513,     0.12613,     0.12713,     0.12813,     0.12913,     0.13013,     0.13113,     0.13213,     0.13313,     0.13413,     0.13514,     0.13614,     0.13714,     0.13814,     0.13914,     0.14014,     0.14114,     0.14214,     0.14314,\n",
       "           0.14414,     0.14515,     0.14615,     0.14715,     0.14815,     0.14915,     0.15015,     0.15115,     0.15215,     0.15315,     0.15415,     0.15516,     0.15616,     0.15716,     0.15816,     0.15916,     0.16016,     0.16116,     0.16216,     0.16316,     0.16416,     0.16517,     0.16617,     0.16717,\n",
       "           0.16817,     0.16917,     0.17017,     0.17117,     0.17217,     0.17317,     0.17417,     0.17518,     0.17618,     0.17718,     0.17818,     0.17918,     0.18018,     0.18118,     0.18218,     0.18318,     0.18418,     0.18519,     0.18619,     0.18719,     0.18819,     0.18919,     0.19019,     0.19119,\n",
       "           0.19219,     0.19319,     0.19419,      0.1952,      0.1962,      0.1972,      0.1982,      0.1992,      0.2002,      0.2012,      0.2022,      0.2032,      0.2042,     0.20521,     0.20621,     0.20721,     0.20821,     0.20921,     0.21021,     0.21121,     0.21221,     0.21321,     0.21421,     0.21522,\n",
       "           0.21622,     0.21722,     0.21822,     0.21922,     0.22022,     0.22122,     0.22222,     0.22322,     0.22422,     0.22523,     0.22623,     0.22723,     0.22823,     0.22923,     0.23023,     0.23123,     0.23223,     0.23323,     0.23423,     0.23524,     0.23624,     0.23724,     0.23824,     0.23924,\n",
       "           0.24024,     0.24124,     0.24224,     0.24324,     0.24424,     0.24525,     0.24625,     0.24725,     0.24825,     0.24925,     0.25025,     0.25125,     0.25225,     0.25325,     0.25425,     0.25526,     0.25626,     0.25726,     0.25826,     0.25926,     0.26026,     0.26126,     0.26226,     0.26326,\n",
       "           0.26426,     0.26527,     0.26627,     0.26727,     0.26827,     0.26927,     0.27027,     0.27127,     0.27227,     0.27327,     0.27427,     0.27528,     0.27628,     0.27728,     0.27828,     0.27928,     0.28028,     0.28128,     0.28228,     0.28328,     0.28428,     0.28529,     0.28629,     0.28729,\n",
       "           0.28829,     0.28929,     0.29029,     0.29129,     0.29229,     0.29329,     0.29429,      0.2953,      0.2963,      0.2973,      0.2983,      0.2993,      0.3003,      0.3013,      0.3023,      0.3033,      0.3043,     0.30531,     0.30631,     0.30731,     0.30831,     0.30931,     0.31031,     0.31131,\n",
       "           0.31231,     0.31331,     0.31431,     0.31532,     0.31632,     0.31732,     0.31832,     0.31932,     0.32032,     0.32132,     0.32232,     0.32332,     0.32432,     0.32533,     0.32633,     0.32733,     0.32833,     0.32933,     0.33033,     0.33133,     0.33233,     0.33333,     0.33433,     0.33534,\n",
       "           0.33634,     0.33734,     0.33834,     0.33934,     0.34034,     0.34134,     0.34234,     0.34334,     0.34434,     0.34535,     0.34635,     0.34735,     0.34835,     0.34935,     0.35035,     0.35135,     0.35235,     0.35335,     0.35435,     0.35536,     0.35636,     0.35736,     0.35836,     0.35936,\n",
       "           0.36036,     0.36136,     0.36236,     0.36336,     0.36436,     0.36537,     0.36637,     0.36737,     0.36837,     0.36937,     0.37037,     0.37137,     0.37237,     0.37337,     0.37437,     0.37538,     0.37638,     0.37738,     0.37838,     0.37938,     0.38038,     0.38138,     0.38238,     0.38338,\n",
       "           0.38438,     0.38539,     0.38639,     0.38739,     0.38839,     0.38939,     0.39039,     0.39139,     0.39239,     0.39339,     0.39439,      0.3954,      0.3964,      0.3974,      0.3984,      0.3994,      0.4004,      0.4014,      0.4024,      0.4034,      0.4044,     0.40541,     0.40641,     0.40741,\n",
       "           0.40841,     0.40941,     0.41041,     0.41141,     0.41241,     0.41341,     0.41441,     0.41542,     0.41642,     0.41742,     0.41842,     0.41942,     0.42042,     0.42142,     0.42242,     0.42342,     0.42442,     0.42543,     0.42643,     0.42743,     0.42843,     0.42943,     0.43043,     0.43143,\n",
       "           0.43243,     0.43343,     0.43443,     0.43544,     0.43644,     0.43744,     0.43844,     0.43944,     0.44044,     0.44144,     0.44244,     0.44344,     0.44444,     0.44545,     0.44645,     0.44745,     0.44845,     0.44945,     0.45045,     0.45145,     0.45245,     0.45345,     0.45445,     0.45546,\n",
       "           0.45646,     0.45746,     0.45846,     0.45946,     0.46046,     0.46146,     0.46246,     0.46346,     0.46446,     0.46547,     0.46647,     0.46747,     0.46847,     0.46947,     0.47047,     0.47147,     0.47247,     0.47347,     0.47447,     0.47548,     0.47648,     0.47748,     0.47848,     0.47948,\n",
       "           0.48048,     0.48148,     0.48248,     0.48348,     0.48448,     0.48549,     0.48649,     0.48749,     0.48849,     0.48949,     0.49049,     0.49149,     0.49249,     0.49349,     0.49449,      0.4955,      0.4965,      0.4975,      0.4985,      0.4995,      0.5005,      0.5015,      0.5025,      0.5035,\n",
       "            0.5045,     0.50551,     0.50651,     0.50751,     0.50851,     0.50951,     0.51051,     0.51151,     0.51251,     0.51351,     0.51451,     0.51552,     0.51652,     0.51752,     0.51852,     0.51952,     0.52052,     0.52152,     0.52252,     0.52352,     0.52452,     0.52553,     0.52653,     0.52753,\n",
       "           0.52853,     0.52953,     0.53053,     0.53153,     0.53253,     0.53353,     0.53453,     0.53554,     0.53654,     0.53754,     0.53854,     0.53954,     0.54054,     0.54154,     0.54254,     0.54354,     0.54454,     0.54555,     0.54655,     0.54755,     0.54855,     0.54955,     0.55055,     0.55155,\n",
       "           0.55255,     0.55355,     0.55455,     0.55556,     0.55656,     0.55756,     0.55856,     0.55956,     0.56056,     0.56156,     0.56256,     0.56356,     0.56456,     0.56557,     0.56657,     0.56757,     0.56857,     0.56957,     0.57057,     0.57157,     0.57257,     0.57357,     0.57457,     0.57558,\n",
       "           0.57658,     0.57758,     0.57858,     0.57958,     0.58058,     0.58158,     0.58258,     0.58358,     0.58458,     0.58559,     0.58659,     0.58759,     0.58859,     0.58959,     0.59059,     0.59159,     0.59259,     0.59359,     0.59459,      0.5956,      0.5966,      0.5976,      0.5986,      0.5996,\n",
       "            0.6006,      0.6016,      0.6026,      0.6036,      0.6046,     0.60561,     0.60661,     0.60761,     0.60861,     0.60961,     0.61061,     0.61161,     0.61261,     0.61361,     0.61461,     0.61562,     0.61662,     0.61762,     0.61862,     0.61962,     0.62062,     0.62162,     0.62262,     0.62362,\n",
       "           0.62462,     0.62563,     0.62663,     0.62763,     0.62863,     0.62963,     0.63063,     0.63163,     0.63263,     0.63363,     0.63463,     0.63564,     0.63664,     0.63764,     0.63864,     0.63964,     0.64064,     0.64164,     0.64264,     0.64364,     0.64464,     0.64565,     0.64665,     0.64765,\n",
       "           0.64865,     0.64965,     0.65065,     0.65165,     0.65265,     0.65365,     0.65465,     0.65566,     0.65666,     0.65766,     0.65866,     0.65966,     0.66066,     0.66166,     0.66266,     0.66366,     0.66466,     0.66567,     0.66667,     0.66767,     0.66867,     0.66967,     0.67067,     0.67167,\n",
       "           0.67267,     0.67367,     0.67467,     0.67568,     0.67668,     0.67768,     0.67868,     0.67968,     0.68068,     0.68168,     0.68268,     0.68368,     0.68468,     0.68569,     0.68669,     0.68769,     0.68869,     0.68969,     0.69069,     0.69169,     0.69269,     0.69369,     0.69469,      0.6957,\n",
       "            0.6967,      0.6977,      0.6987,      0.6997,      0.7007,      0.7017,      0.7027,      0.7037,      0.7047,     0.70571,     0.70671,     0.70771,     0.70871,     0.70971,     0.71071,     0.71171,     0.71271,     0.71371,     0.71471,     0.71572,     0.71672,     0.71772,     0.71872,     0.71972,\n",
       "           0.72072,     0.72172,     0.72272,     0.72372,     0.72472,     0.72573,     0.72673,     0.72773,     0.72873,     0.72973,     0.73073,     0.73173,     0.73273,     0.73373,     0.73473,     0.73574,     0.73674,     0.73774,     0.73874,     0.73974,     0.74074,     0.74174,     0.74274,     0.74374,\n",
       "           0.74474,     0.74575,     0.74675,     0.74775,     0.74875,     0.74975,     0.75075,     0.75175,     0.75275,     0.75375,     0.75475,     0.75576,     0.75676,     0.75776,     0.75876,     0.75976,     0.76076,     0.76176,     0.76276,     0.76376,     0.76476,     0.76577,     0.76677,     0.76777,\n",
       "           0.76877,     0.76977,     0.77077,     0.77177,     0.77277,     0.77377,     0.77477,     0.77578,     0.77678,     0.77778,     0.77878,     0.77978,     0.78078,     0.78178,     0.78278,     0.78378,     0.78478,     0.78579,     0.78679,     0.78779,     0.78879,     0.78979,     0.79079,     0.79179,\n",
       "           0.79279,     0.79379,     0.79479,      0.7958,      0.7968,      0.7978,      0.7988,      0.7998,      0.8008,      0.8018,      0.8028,      0.8038,      0.8048,     0.80581,     0.80681,     0.80781,     0.80881,     0.80981,     0.81081,     0.81181,     0.81281,     0.81381,     0.81481,     0.81582,\n",
       "           0.81682,     0.81782,     0.81882,     0.81982,     0.82082,     0.82182,     0.82282,     0.82382,     0.82482,     0.82583,     0.82683,     0.82783,     0.82883,     0.82983,     0.83083,     0.83183,     0.83283,     0.83383,     0.83483,     0.83584,     0.83684,     0.83784,     0.83884,     0.83984,\n",
       "           0.84084,     0.84184,     0.84284,     0.84384,     0.84484,     0.84585,     0.84685,     0.84785,     0.84885,     0.84985,     0.85085,     0.85185,     0.85285,     0.85385,     0.85485,     0.85586,     0.85686,     0.85786,     0.85886,     0.85986,     0.86086,     0.86186,     0.86286,     0.86386,\n",
       "           0.86486,     0.86587,     0.86687,     0.86787,     0.86887,     0.86987,     0.87087,     0.87187,     0.87287,     0.87387,     0.87487,     0.87588,     0.87688,     0.87788,     0.87888,     0.87988,     0.88088,     0.88188,     0.88288,     0.88388,     0.88488,     0.88589,     0.88689,     0.88789,\n",
       "           0.88889,     0.88989,     0.89089,     0.89189,     0.89289,     0.89389,     0.89489,      0.8959,      0.8969,      0.8979,      0.8989,      0.8999,      0.9009,      0.9019,      0.9029,      0.9039,      0.9049,     0.90591,     0.90691,     0.90791,     0.90891,     0.90991,     0.91091,     0.91191,\n",
       "           0.91291,     0.91391,     0.91491,     0.91592,     0.91692,     0.91792,     0.91892,     0.91992,     0.92092,     0.92192,     0.92292,     0.92392,     0.92492,     0.92593,     0.92693,     0.92793,     0.92893,     0.92993,     0.93093,     0.93193,     0.93293,     0.93393,     0.93493,     0.93594,\n",
       "           0.93694,     0.93794,     0.93894,     0.93994,     0.94094,     0.94194,     0.94294,     0.94394,     0.94494,     0.94595,     0.94695,     0.94795,     0.94895,     0.94995,     0.95095,     0.95195,     0.95295,     0.95395,     0.95495,     0.95596,     0.95696,     0.95796,     0.95896,     0.95996,\n",
       "           0.96096,     0.96196,     0.96296,     0.96396,     0.96496,     0.96597,     0.96697,     0.96797,     0.96897,     0.96997,     0.97097,     0.97197,     0.97297,     0.97397,     0.97497,     0.97598,     0.97698,     0.97798,     0.97898,     0.97998,     0.98098,     0.98198,     0.98298,     0.98398,\n",
       "           0.98498,     0.98599,     0.98699,     0.98799,     0.98899,     0.98999,     0.99099,     0.99199,     0.99299,     0.99399,     0.99499,       0.996,       0.997,       0.998,       0.999,           1]), array([[    0.98526,     0.98526,        0.98,     0.97789,     0.97579,     0.97263,     0.97263,     0.97263,     0.97053,     0.96947,     0.96737,     0.96632,     0.96421,     0.96316,     0.96105,     0.96105,     0.96105,     0.95789,     0.95579,     0.95158,     0.94842,     0.94737,     0.94632,\n",
       "            0.94421,     0.94421,     0.94211,     0.94105,     0.93895,     0.93895,     0.93789,     0.93693,     0.93684,     0.93684,     0.93474,     0.93474,     0.93368,     0.93263,     0.93158,     0.93158,     0.92947,     0.92842,     0.92526,     0.92526,     0.92526,     0.92421,     0.92421,\n",
       "            0.92211,        0.92,        0.92,     0.91891,     0.91789,     0.91684,     0.91684,     0.91684,     0.91579,     0.91579,     0.91474,     0.91474,     0.91474,     0.91474,     0.91474,     0.91368,     0.91263,     0.91263,     0.91263,     0.91263,     0.91263,     0.91158,     0.91053,\n",
       "            0.91053,     0.91053,     0.90947,     0.90851,     0.90737,     0.90737,     0.90737,     0.90737,     0.90737,     0.90737,     0.90737,     0.90737,     0.90737,     0.90737,     0.90737,     0.90737,     0.90737,     0.90737,     0.90737,     0.90737,     0.90737,     0.90737,     0.90737,\n",
       "            0.90737,     0.90737,     0.90737,     0.90737,     0.90737,     0.90737,     0.90632,     0.90632,     0.90632,     0.90632,     0.90632,     0.90632,     0.90632,     0.90632,     0.90526,     0.90526,     0.90526,     0.90526,     0.90526,     0.90526,     0.90463,     0.90421,     0.90316,\n",
       "            0.90316,     0.90316,     0.90316,     0.90316,     0.90316,     0.90316,     0.90316,     0.90316,     0.90316,     0.90316,     0.90316,     0.90316,     0.90241,     0.90105,     0.90105,     0.90105,     0.90105,     0.90105,         0.9,         0.9,         0.9,         0.9,         0.9,\n",
       "                0.9,         0.9,         0.9,         0.9,         0.9,         0.9,         0.9,         0.9,     0.89789,     0.89789,     0.89579,     0.89579,     0.89579,     0.89579,     0.89474,     0.89474,     0.89474,     0.89474,     0.89474,     0.89474,     0.89474,     0.89474,     0.89368,\n",
       "            0.89225,     0.89094,     0.88904,     0.88842,      0.8882,     0.88737,     0.88737,     0.88737,     0.88737,     0.88737,     0.88737,     0.88737,     0.88737,     0.88737,     0.88737,     0.88737,     0.88737,     0.88737,     0.88737,     0.88737,     0.88737,     0.88737,     0.88737,\n",
       "             0.8853,     0.88526,     0.88526,     0.88526,     0.88421,     0.88421,     0.88421,     0.88421,     0.88421,     0.88421,     0.88316,     0.88244,     0.88211,     0.88211,     0.88211,     0.88211,     0.88211,     0.88211,     0.88211,     0.88211,     0.88211,     0.88211,     0.88211,\n",
       "            0.88211,     0.88211,     0.88211,     0.88211,     0.88211,     0.88211,     0.88211,     0.88211,     0.88211,     0.88211,     0.88211,     0.88211,     0.88211,     0.88211,     0.88211,     0.88075,        0.88,        0.88,        0.88,     0.87895,     0.87895,     0.87895,     0.87895,\n",
       "            0.87895,     0.87895,     0.87895,     0.87789,     0.87789,     0.87789,     0.87789,     0.87789,     0.87789,     0.87789,     0.87789,     0.87789,     0.87789,     0.87789,     0.87704,     0.87622,     0.87579,     0.87579,     0.87579,     0.87579,     0.87579,     0.87579,     0.87579,\n",
       "            0.87579,     0.87579,     0.87579,     0.87579,     0.87579,     0.87579,     0.87579,     0.87579,     0.87579,     0.87579,     0.87579,     0.87579,     0.87579,     0.87579,     0.87579,     0.87474,     0.87474,     0.87474,     0.87474,     0.87474,     0.87474,     0.87431,     0.87368,\n",
       "            0.87368,     0.87368,     0.87263,     0.87263,     0.87263,     0.87263,     0.87263,     0.87263,     0.87263,     0.87174,     0.87158,     0.87158,     0.87158,     0.87158,     0.87157,     0.87053,     0.87053,     0.87053,     0.87053,     0.87012,      0.8689,     0.86842,     0.86842,\n",
       "            0.86842,     0.86842,     0.86842,     0.86842,     0.86842,     0.86842,     0.86842,     0.86842,     0.86842,     0.86632,     0.86632,     0.86632,     0.86632,     0.86632,     0.86632,     0.86526,     0.86526,     0.86526,     0.86526,     0.86526,     0.86526,     0.86526,     0.86421,\n",
       "            0.86421,     0.86288,     0.86105,     0.86087,     0.85957,     0.85789,     0.85789,     0.85684,     0.85579,     0.85579,     0.85579,     0.85579,     0.85533,     0.85427,     0.85373,     0.85329,     0.85286,     0.85263,     0.85261,     0.85158,     0.85158,     0.85053,     0.85053,\n",
       "            0.84999,     0.84947,     0.84947,     0.84947,     0.84947,     0.84947,     0.84947,     0.84842,     0.84842,     0.84842,     0.84842,     0.84842,     0.84842,     0.84842,     0.84842,     0.84737,     0.84737,     0.84672,     0.84632,     0.84632,     0.84632,     0.84632,     0.84526,\n",
       "            0.84526,     0.84526,     0.84526,     0.84526,     0.84526,     0.84526,     0.84526,     0.84526,     0.84526,       0.845,     0.84461,     0.84422,     0.84421,     0.84421,     0.84421,     0.84421,     0.84421,     0.84421,     0.84421,     0.84421,     0.84421,     0.84421,      0.8442,\n",
       "            0.84316,     0.84211,     0.84211,     0.84105,     0.84095,     0.84068,     0.84041,     0.84014,        0.84,     0.83789,     0.83702,     0.83662,     0.83591,     0.83579,     0.83579,     0.83579,     0.83579,     0.83579,     0.83579,     0.83579,     0.83579,     0.83474,     0.83474,\n",
       "            0.83474,     0.83474,     0.83474,     0.83474,     0.83474,     0.83474,     0.83447,     0.83411,     0.83375,     0.83263,     0.83263,     0.83263,     0.83263,     0.83158,     0.83136,     0.82842,     0.82632,     0.82617,     0.82563,     0.82491,     0.82421,     0.82421,     0.82246,\n",
       "            0.82211,     0.82105,     0.82105,        0.82,        0.82,        0.82,        0.82,     0.81895,     0.81895,     0.81895,     0.81895,     0.81794,     0.81789,     0.81789,     0.81789,     0.81789,     0.81789,     0.81789,     0.81684,     0.81684,     0.81684,     0.81684,     0.81684,\n",
       "            0.81579,     0.81579,     0.81579,     0.81579,     0.81579,     0.81579,     0.81579,     0.81579,     0.81579,     0.81501,     0.81474,     0.81474,     0.81474,     0.81474,     0.81474,     0.81474,     0.81474,     0.81474,     0.81474,     0.81474,     0.81368,     0.81366,     0.81313,\n",
       "            0.81263,     0.81158,     0.81158,     0.81158,     0.81158,     0.81053,     0.81053,     0.81053,     0.81053,     0.80947,     0.80807,     0.80699,     0.80591,     0.80526,     0.80526,     0.80526,      0.8037,     0.80211,     0.80182,     0.80128,         0.8,         0.8,         0.8,\n",
       "                0.8,         0.8,         0.8,         0.8,         0.8,     0.79917,     0.79809,     0.79701,     0.79579,     0.79579,     0.79579,     0.79579,     0.79162,     0.79158,     0.79158,     0.79154,     0.79046,     0.78944,     0.78908,     0.78872,     0.78842,     0.78842,     0.78842,\n",
       "            0.78817,     0.78737,     0.78737,     0.78737,     0.78737,     0.78737,     0.78737,     0.78737,     0.78737,     0.78737,     0.78711,     0.78657,     0.78632,     0.78362,     0.78316,     0.78211,     0.78083,     0.78047,     0.78011,     0.77789,     0.77645,     0.77591,     0.77496,\n",
       "            0.77431,     0.77377,     0.77368,     0.77368,     0.77368,     0.77217,     0.77109,     0.77053,     0.77053,     0.77053,     0.77053,     0.77053,     0.77053,     0.77053,     0.77053,     0.77038,     0.77017,     0.76995,     0.76973,     0.76952,     0.76947,     0.76754,     0.76646,\n",
       "            0.76538,      0.7643,     0.76322,     0.76282,     0.76246,     0.76209,     0.76105,     0.75941,     0.75727,     0.75663,     0.75627,     0.75591,     0.75506,     0.75398,     0.75291,     0.75118,     0.75064,     0.74947,     0.74947,     0.74947,     0.74947,     0.74737,     0.74737,\n",
       "            0.74737,     0.74737,     0.74737,     0.74737,     0.74737,     0.74737,     0.74599,     0.74545,     0.74526,     0.74401,     0.74188,     0.73975,     0.73776,     0.73722,     0.73546,     0.73438,      0.7333,     0.73263,     0.73158,     0.73158,     0.72791,     0.72737,     0.72526,\n",
       "             0.7249,     0.72454,     0.72412,     0.72291,     0.71933,      0.7186,     0.71806,     0.71714,     0.71606,     0.71328,     0.71274,     0.71141,     0.71087,     0.70947,     0.70906,     0.70798,     0.70644,     0.70425,     0.70106,     0.70052,     0.69998,     0.69944,     0.69783,\n",
       "            0.69711,     0.69684,     0.69684,     0.69648,     0.69594,     0.69554,      0.6934,     0.69158,     0.69019,     0.68947,     0.68856,     0.68643,     0.68535,     0.68421,     0.68397,     0.68343,     0.68316,     0.68278,     0.68209,     0.68182,     0.68155,     0.68128,     0.68105,\n",
       "            0.68105,     0.68105,     0.68105,     0.67972,     0.67759,     0.67566,     0.67522,     0.67479,     0.67275,     0.67061,     0.66671,     0.66526,     0.66526,     0.66209,      0.6589,     0.65572,     0.65454,     0.65303,     0.65124,      0.6507,     0.64632,     0.64632,     0.64581,\n",
       "            0.64293,     0.64262,     0.64231,     0.63982,     0.63928,     0.63707,     0.63377,     0.63269,     0.63053,     0.63001,     0.62735,     0.62522,     0.62407,     0.62179,     0.62125,     0.61774,     0.61474,     0.61328,     0.61188,     0.61158,     0.60919,     0.60716,     0.60644,\n",
       "            0.60438,     0.60224,     0.60064,     0.59912,     0.59585,     0.59477,     0.59106,     0.58998,     0.58737,     0.58737,     0.58737,     0.58672,     0.58516,     0.58444,     0.58316,      0.5816,      0.5808,     0.57944,     0.57811,     0.57651,     0.57555,     0.57483,     0.57274,\n",
       "            0.57219,     0.56854,      0.5674,      0.5658,      0.5642,     0.56348,     0.56286,     0.56232,     0.55988,     0.55864,     0.55532,     0.55348,     0.55217,     0.54974,     0.54578,     0.54359,      0.5423,     0.53753,     0.53607,     0.53485,     0.53272,     0.53197,     0.52687,\n",
       "            0.52528,     0.52312,     0.52153,     0.51887,     0.51664,     0.51044,     0.50972,     0.50877,     0.50583,      0.5048,     0.49983,     0.49911,     0.49811,      0.4944,     0.49085,     0.48698,     0.48499,     0.48427,     0.47906,     0.47687,     0.47264,     0.47157,     0.47085,\n",
       "            0.46512,     0.46358,     0.46184,     0.46141,     0.45964,     0.45716,     0.45533,     0.45421,     0.45349,     0.45278,     0.45158,     0.44964,     0.44238,     0.43832,      0.4328,     0.43006,     0.42848,     0.42474,     0.41996,     0.41785,     0.41677,     0.41348,     0.40987,\n",
       "            0.40632,     0.40508,      0.4038,     0.40059,     0.39922,     0.39565,     0.39511,     0.39196,     0.38559,     0.38277,     0.38022,     0.37596,     0.37021,     0.36949,     0.36738,     0.36419,     0.36096,     0.35564,     0.34927,     0.34816,     0.34773,     0.34623,     0.34569,\n",
       "             0.3448,     0.34132,     0.33417,      0.3278,     0.32694,      0.3264,     0.32132,     0.31906,     0.31175,     0.30986,     0.30848,     0.30317,      0.2984,     0.29574,     0.29459,     0.29253,     0.28829,     0.28616,     0.28385,     0.27538,     0.27111,      0.2693,     0.26858,\n",
       "            0.26464,     0.26177,     0.25927,      0.2529,     0.24759,     0.24227,     0.23848,     0.23585,     0.23159,     0.22206,     0.21885,     0.21459,     0.21032,     0.20619,     0.20495,     0.19964,     0.19538,     0.19111,     0.18869,     0.18364,     0.17758,     0.17616,     0.17295,\n",
       "            0.16869,     0.16748,      0.1664,     0.16427,     0.16111,     0.15825,     0.15469,     0.15049,     0.14977,     0.14885,      0.1425,     0.14142,     0.13858,     0.13432,     0.13216,     0.12895,     0.12258,     0.11663,     0.11591,     0.10874,     0.10343,     0.10022,    0.099029,\n",
       "           0.090637,    0.088479,    0.086318,    0.085598,    0.080953,    0.077742,    0.074531,    0.072503,    0.069163,    0.066195,    0.065475,     0.06345,    0.058426,    0.055646,    0.055106,     0.05451,    0.053791,     0.05066,    0.047583,    0.044818,    0.042215,    0.040555,    0.037899,\n",
       "           0.035239,     0.03416,    0.032478,    0.030107,    0.026251,    0.025712,    0.024899,    0.024077,    0.023881,    0.023685,    0.023488,    0.023292,    0.020712,    0.019633,    0.018554,    0.016423,    0.015641,    0.015281,    0.014922,    0.014562,    0.014202,    0.013843,    0.012609,\n",
       "           0.012301,    0.011993,    0.011685,    0.011106,    0.010496,    0.010342,    0.010188,    0.010034,   0.0098799,   0.0097257,   0.0095716,   0.0094021,    0.009206,   0.0090098,   0.0088136,   0.0086174,   0.0084212,   0.0073178,   0.0061713,   0.0059016,   0.0056318,   0.0053621,    0.004132,\n",
       "          0.0035925,    0.003116,   0.0029002,   0.0026844,   0.0024686,   0.0022528,   0.0018777,   0.0011584,           0,           0,           0,           0,           0,           0,           0,           0,           0,           0,           0,           0,           0,           0,           0,\n",
       "                  0,           0,           0,           0,           0,           0,           0,           0,           0,           0,           0]]), 'Confidence', 'Recall']]\n",
       "fitness: np.float64(0.6626255811548116)\n",
       "keys: ['metrics/precision(B)', 'metrics/recall(B)', 'metrics/mAP50(B)', 'metrics/mAP50-95(B)']\n",
       "maps: array([    0.63798])\n",
       "names: {0: 'fire'}\n",
       "plot: True\n",
       "results_dict: {'metrics/precision(B)': np.float64(0.860011751065105), 'metrics/recall(B)': np.float64(0.7884210526315789), 'metrics/mAP50(B)': np.float64(0.884397590320801), 'metrics/mAP50-95(B)': np.float64(0.637984246803035), 'fitness': np.float64(0.6626255811548116)}\n",
       "save_dir: WindowsPath('runs/detect/train2')\n",
       "speed: {'preprocess': 0.33755643930612256, 'inference': 7.91999231282849, 'loss': 0.0, 'postprocess': 1.2547603020301232}\n",
       "task: 'detect'"
      ]
     },
     "execution_count": 15,
     "metadata": {},
     "output_type": "execute_result"
    }
   ],
   "source": [
    "model.train(data='C:\\\\Pessoal\\\\Projetos\\\\Github\\\\ReconView_V2\\\\Fire-Detection\\\\data.yaml',\n",
    "            epochs=30,\n",
    "            patience=8,\n",
    "            batch = -1,\n",
    "            imgsz=640,\n",
    "            pretrained=True,\n",
    "            device = 0\n",
    "           )"
   ]
  }
 ],
 "metadata": {
  "kernelspec": {
   "display_name": "venv",
   "language": "python",
   "name": "python3"
  },
  "language_info": {
   "codemirror_mode": {
    "name": "ipython",
    "version": 3
   },
   "file_extension": ".py",
   "mimetype": "text/x-python",
   "name": "python",
   "nbconvert_exporter": "python",
   "pygments_lexer": "ipython3",
   "version": "3.10.11"
  }
 },
 "nbformat": 4,
 "nbformat_minor": 5
}
